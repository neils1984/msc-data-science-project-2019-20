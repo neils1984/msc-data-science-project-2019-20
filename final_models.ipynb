{
 "cells": [
  {
   "cell_type": "code",
   "execution_count": 25,
   "metadata": {},
   "outputs": [],
   "source": [
    "import os\n",
    "import numpy as np\n",
    "np.random.seed(1)\n",
    "import random as rn\n",
    "rn.seed(1)\n",
    "import tensorflow as tf\n",
    "tf.random.set_seed(1)\n",
    "from keras import Sequential\n",
    "from keras.layers import Dense, Dropout, Input, concatenate\n",
    "from keras.wrappers.scikit_learn import KerasRegressor\n",
    "from keras import Model\n",
    "from sklearn.ensemble import RandomForestRegressor\n",
    "import config\n",
    "import pandas as pd\n",
    "import matplotlib.pyplot as plt\n",
    "import seaborn as sns\n",
    "from sklearn.preprocessing import StandardScaler, MinMaxScaler\n",
    "from sklearn.feature_selection import RFECV\n",
    "from sklearn.linear_model import LinearRegression\n",
    "from sklearn.ensemble import ExtraTreesRegressor\n",
    "from sklearn.model_selection import KFold, cross_val_score, GridSearchCV\n",
    "from sklearn.metrics import make_scorer\n",
    "import math"
   ]
  },
  {
   "cell_type": "code",
   "execution_count": 26,
   "metadata": {},
   "outputs": [],
   "source": [
    "def mean_abs_pct_error(y, y_pred, **kwargs):\n",
    "    arr = abs(y_pred - y) / y\n",
    "    return np.mean(arr)"
   ]
  },
  {
   "cell_type": "code",
   "execution_count": 27,
   "metadata": {},
   "outputs": [],
   "source": [
    "def create_model(neurons=4, act='relu', opt='adam', loss='mean_absolute_error', dropout_rate=0, kernel='uniform'):\n",
    "    model = Sequential()\n",
    "    model.add(Dropout(dropout_rate, input_shape=(n_inputs,)))\n",
    "    model.add(Dense(neurons, activation=act))\n",
    "    model.add(Dense(1, activation='relu'))\n",
    "    model.compile(optimizer=opt, loss=loss)\n",
    "    return model"
   ]
  },
  {
   "cell_type": "code",
   "execution_count": 28,
   "metadata": {},
   "outputs": [],
   "source": [
    "engine = config.engine"
   ]
  },
  {
   "cell_type": "code",
   "execution_count": 29,
   "metadata": {},
   "outputs": [],
   "source": [
    "qry = 'SELECT * FROM train_cleaned ' \\\n",
    "      'UNION ' \\\n",
    "      'SELECT * FROM test_cleaned;'\n",
    "\n",
    "data = pd.read_sql(sql=qry, con=engine)"
   ]
  },
  {
   "cell_type": "markdown",
   "metadata": {},
   "source": [
    "### Re-split tabular data to match geographic split used for feature extraction"
   ]
  },
  {
   "cell_type": "code",
   "execution_count": 30,
   "metadata": {},
   "outputs": [],
   "source": [
    "test_lsoas = [\n",
    "    'E01017935',\n",
    "    'E01017904',\n",
    "    'E01017900',\n",
    "    'E01017858',\n",
    "    'E01017871',\n",
    "    'E01017867',\n",
    "    'E01017938',\n",
    "    'E01017859',\n",
    "    'E01017936',\n",
    "    'E01017907']"
   ]
  },
  {
   "cell_type": "code",
   "execution_count": 31,
   "metadata": {},
   "outputs": [],
   "source": [
    "cols = ['energy_consumption_current', 'total_floor_area',\n",
    "       'number_open_fireplaces', 'mainheatc_energy_eff', 'barriers_score',\n",
    "       'cyp_score', 'older_pop_60', 'ptype_F', 'ptype_S', 'ptype_T',\n",
    "       'new_build_Y', 'mains_gas_flag_Y',\n",
    "       'construction_age_band_England and Wales: before 1900',\n",
    "       'price']"
   ]
  },
  {
   "cell_type": "code",
   "execution_count": 32,
   "metadata": {},
   "outputs": [],
   "source": [
    "combined_data = pd.get_dummies(data)\n",
    "X = combined_data[cols]\n",
    "X_test = X[data['lsoa_code'].isin(test_lsoas)]\n",
    "X_train = X[~data['lsoa_code'].isin(test_lsoas)]\n",
    "\n",
    "y_train = X_train.pop('price').apply(np.log)\n",
    "y_test = X_test.pop('price').apply(np.log)"
   ]
  },
  {
   "cell_type": "code",
   "execution_count": 33,
   "metadata": {},
   "outputs": [
    {
     "data": {
      "text/plain": [
       "((2227, 13), (340, 13))"
      ]
     },
     "execution_count": 33,
     "metadata": {},
     "output_type": "execute_result"
    }
   ],
   "source": [
    "X_train.shape, X_test.shape"
   ]
  },
  {
   "cell_type": "code",
   "execution_count": 34,
   "metadata": {},
   "outputs": [
    {
     "data": {
      "text/plain": [
       "Index(['energy_consumption_current', 'total_floor_area',\n",
       "       'number_open_fireplaces', 'mainheatc_energy_eff', 'barriers_score',\n",
       "       'cyp_score', 'older_pop_60', 'ptype_F', 'ptype_S', 'ptype_T',\n",
       "       'new_build_Y', 'mains_gas_flag_Y',\n",
       "       'construction_age_band_England and Wales: before 1900'],\n",
       "      dtype='object')"
      ]
     },
     "execution_count": 34,
     "metadata": {},
     "output_type": "execute_result"
    }
   ],
   "source": [
    "X_train.columns"
   ]
  },
  {
   "cell_type": "code",
   "execution_count": 35,
   "metadata": {},
   "outputs": [
    {
     "data": {
      "text/html": [
       "<div>\n",
       "<style scoped>\n",
       "    .dataframe tbody tr th:only-of-type {\n",
       "        vertical-align: middle;\n",
       "    }\n",
       "\n",
       "    .dataframe tbody tr th {\n",
       "        vertical-align: top;\n",
       "    }\n",
       "\n",
       "    .dataframe thead th {\n",
       "        text-align: right;\n",
       "    }\n",
       "</style>\n",
       "<table border=\"1\" class=\"dataframe\">\n",
       "  <thead>\n",
       "    <tr style=\"text-align: right;\">\n",
       "      <th></th>\n",
       "      <th>energy_consumption_current</th>\n",
       "      <th>total_floor_area</th>\n",
       "      <th>number_open_fireplaces</th>\n",
       "      <th>mainheatc_energy_eff</th>\n",
       "      <th>barriers_score</th>\n",
       "      <th>cyp_score</th>\n",
       "      <th>older_pop_60</th>\n",
       "      <th>ptype_F</th>\n",
       "      <th>ptype_S</th>\n",
       "      <th>ptype_T</th>\n",
       "      <th>new_build_Y</th>\n",
       "      <th>mains_gas_flag_Y</th>\n",
       "      <th>construction_age_band_England and Wales: before 1900</th>\n",
       "    </tr>\n",
       "  </thead>\n",
       "  <tbody>\n",
       "    <tr>\n",
       "      <th>0</th>\n",
       "      <td>377</td>\n",
       "      <td>64.96</td>\n",
       "      <td>0.0</td>\n",
       "      <td>1</td>\n",
       "      <td>21.025</td>\n",
       "      <td>0.314</td>\n",
       "      <td>250</td>\n",
       "      <td>1</td>\n",
       "      <td>0</td>\n",
       "      <td>0</td>\n",
       "      <td>0</td>\n",
       "      <td>0</td>\n",
       "      <td>0</td>\n",
       "    </tr>\n",
       "    <tr>\n",
       "      <th>1</th>\n",
       "      <td>275</td>\n",
       "      <td>86.00</td>\n",
       "      <td>0.0</td>\n",
       "      <td>2</td>\n",
       "      <td>23.975</td>\n",
       "      <td>-0.325</td>\n",
       "      <td>261</td>\n",
       "      <td>0</td>\n",
       "      <td>1</td>\n",
       "      <td>0</td>\n",
       "      <td>0</td>\n",
       "      <td>1</td>\n",
       "      <td>1</td>\n",
       "    </tr>\n",
       "    <tr>\n",
       "      <th>2</th>\n",
       "      <td>175</td>\n",
       "      <td>84.48</td>\n",
       "      <td>0.0</td>\n",
       "      <td>3</td>\n",
       "      <td>16.241</td>\n",
       "      <td>0.718</td>\n",
       "      <td>259</td>\n",
       "      <td>0</td>\n",
       "      <td>0</td>\n",
       "      <td>1</td>\n",
       "      <td>0</td>\n",
       "      <td>1</td>\n",
       "      <td>0</td>\n",
       "    </tr>\n",
       "    <tr>\n",
       "      <th>3</th>\n",
       "      <td>327</td>\n",
       "      <td>106.00</td>\n",
       "      <td>0.0</td>\n",
       "      <td>3</td>\n",
       "      <td>21.025</td>\n",
       "      <td>0.314</td>\n",
       "      <td>250</td>\n",
       "      <td>0</td>\n",
       "      <td>1</td>\n",
       "      <td>0</td>\n",
       "      <td>0</td>\n",
       "      <td>1</td>\n",
       "      <td>0</td>\n",
       "    </tr>\n",
       "    <tr>\n",
       "      <th>4</th>\n",
       "      <td>154</td>\n",
       "      <td>130.00</td>\n",
       "      <td>0.0</td>\n",
       "      <td>3</td>\n",
       "      <td>8.620</td>\n",
       "      <td>-1.121</td>\n",
       "      <td>459</td>\n",
       "      <td>0</td>\n",
       "      <td>1</td>\n",
       "      <td>0</td>\n",
       "      <td>0</td>\n",
       "      <td>1</td>\n",
       "      <td>0</td>\n",
       "    </tr>\n",
       "  </tbody>\n",
       "</table>\n",
       "</div>"
      ],
      "text/plain": [
       "   energy_consumption_current  total_floor_area  number_open_fireplaces  \\\n",
       "0                         377             64.96                     0.0   \n",
       "1                         275             86.00                     0.0   \n",
       "2                         175             84.48                     0.0   \n",
       "3                         327            106.00                     0.0   \n",
       "4                         154            130.00                     0.0   \n",
       "\n",
       "   mainheatc_energy_eff  barriers_score  cyp_score  older_pop_60  ptype_F  \\\n",
       "0                     1          21.025      0.314           250        1   \n",
       "1                     2          23.975     -0.325           261        0   \n",
       "2                     3          16.241      0.718           259        0   \n",
       "3                     3          21.025      0.314           250        0   \n",
       "4                     3           8.620     -1.121           459        0   \n",
       "\n",
       "   ptype_S  ptype_T  new_build_Y  mains_gas_flag_Y  \\\n",
       "0        0        0            0                 0   \n",
       "1        1        0            0                 1   \n",
       "2        0        1            0                 1   \n",
       "3        1        0            0                 1   \n",
       "4        1        0            0                 1   \n",
       "\n",
       "   construction_age_band_England and Wales: before 1900  \n",
       "0                                                  0     \n",
       "1                                                  1     \n",
       "2                                                  0     \n",
       "3                                                  0     \n",
       "4                                                  0     "
      ]
     },
     "execution_count": 35,
     "metadata": {},
     "output_type": "execute_result"
    }
   ],
   "source": [
    "X_train.head()"
   ]
  },
  {
   "cell_type": "code",
   "execution_count": 36,
   "metadata": {},
   "outputs": [
    {
     "name": "stderr",
     "output_type": "stream",
     "text": [
      "C:\\Users\\neils\\Anaconda3\\lib\\site-packages\\pandas\\core\\indexing.py:966: SettingWithCopyWarning: \n",
      "A value is trying to be set on a copy of a slice from a DataFrame.\n",
      "Try using .loc[row_indexer,col_indexer] = value instead\n",
      "\n",
      "See the caveats in the documentation: https://pandas.pydata.org/pandas-docs/stable/user_guide/indexing.html#returning-a-view-versus-a-copy\n",
      "  self.obj[item] = s\n"
     ]
    }
   ],
   "source": [
    "X_train.loc[:, 'total_floor_area'] = X_train.loc[:, 'total_floor_area'].apply(np.log)\n",
    "X_test.loc[:, 'total_floor_area'] = X_test.loc[:, 'total_floor_area'].apply(np.log)"
   ]
  },
  {
   "cell_type": "code",
   "execution_count": 37,
   "metadata": {},
   "outputs": [
    {
     "data": {
      "text/plain": [
       "(2227, 13)"
      ]
     },
     "execution_count": 37,
     "metadata": {},
     "output_type": "execute_result"
    }
   ],
   "source": [
    "X_train.shape"
   ]
  },
  {
   "cell_type": "code",
   "execution_count": 38,
   "metadata": {},
   "outputs": [
    {
     "data": {
      "text/plain": [
       "(340, 13)"
      ]
     },
     "execution_count": 38,
     "metadata": {},
     "output_type": "execute_result"
    }
   ],
   "source": [
    "X_test.shape"
   ]
  },
  {
   "cell_type": "code",
   "execution_count": 39,
   "metadata": {},
   "outputs": [],
   "source": [
    "scale = MinMaxScaler()"
   ]
  },
  {
   "cell_type": "code",
   "execution_count": 40,
   "metadata": {},
   "outputs": [],
   "source": [
    "X_train_scaled = scale.fit_transform(X_train)\n",
    "X_test_scaled = scale.transform(X_test)"
   ]
  },
  {
   "cell_type": "code",
   "execution_count": 129,
   "metadata": {},
   "outputs": [],
   "source": [
    "mean_errors_list = []\n",
    "median_errors_list = []\n",
    "r2_list = []\n",
    "errors_summary_list = []"
   ]
  },
  {
   "cell_type": "markdown",
   "metadata": {},
   "source": [
    "### Retraining and testing the baseline models on the geographically split data"
   ]
  },
  {
   "cell_type": "markdown",
   "metadata": {},
   "source": [
    "#### Linear Regression"
   ]
  },
  {
   "cell_type": "code",
   "execution_count": 41,
   "metadata": {},
   "outputs": [],
   "source": [
    "lr = LinearRegression()\n",
    "lr.fit(X_train_scaled, y_train)\n",
    "lr_y_pred = lr.predict(X_test_scaled)"
   ]
  },
  {
   "cell_type": "code",
   "execution_count": 42,
   "metadata": {},
   "outputs": [],
   "source": [
    "from sklearn.metrics import mean_absolute_error, r2_score, median_absolute_error"
   ]
  },
  {
   "cell_type": "code",
   "execution_count": 130,
   "metadata": {},
   "outputs": [
    {
     "name": "stdout",
     "output_type": "stream",
     "text": [
      "Test mean absolute error: 0.138\n",
      "Test median absolute_error: 0.105\n",
      "Test r2: 0.804\n"
     ]
    }
   ],
   "source": [
    "lr_test_mae = round(mean_absolute_error(y_test, lr_y_pred), 3)\n",
    "lr_test_med = round(median_absolute_error(y_test, lr_y_pred), 3)\n",
    "lr_test_r2 = round(r2_score(y_test, lr_y_pred), 3)\n",
    "print(f'Test mean absolute error: {lr_test_mae}')\n",
    "print(f'Test median absolute_error: {lr_test_med}')\n",
    "print(f'Test r2: {lr_test_r2}')\n",
    "mean_errors_list.append(lr_test_mae)\n",
    "median_errors_list.append(lr_test_med)\n",
    "r2_list.append(lr_test_r2)"
   ]
  },
  {
   "cell_type": "code",
   "execution_count": 131,
   "metadata": {},
   "outputs": [
    {
     "data": {
      "text/plain": [
       "count    340.000000\n",
       "mean       0.138417\n",
       "std        0.126078\n",
       "min        0.000088\n",
       "25%        0.049779\n",
       "50%        0.105249\n",
       "75%        0.203604\n",
       "max        0.939933\n",
       "Name: price, dtype: float64"
      ]
     },
     "execution_count": 131,
     "metadata": {},
     "output_type": "execute_result"
    }
   ],
   "source": [
    "lr_errors = abs(lr_y_pred - y_test)\n",
    "errors_summary_list.append(lr_errors.describe())\n",
    "lr_errors.describe()"
   ]
  },
  {
   "cell_type": "markdown",
   "metadata": {},
   "source": [
    "#### Random Forest"
   ]
  },
  {
   "cell_type": "code",
   "execution_count": 45,
   "metadata": {},
   "outputs": [],
   "source": [
    "np.random.seed(1)\n",
    "rf = RandomForestRegressor(n_estimators=200, max_depth=15, min_samples_leaf=3)\n",
    "rf.fit(X_train_scaled, y_train)\n",
    "\n",
    "rf_y_pred = rf.predict(X_test_scaled)"
   ]
  },
  {
   "cell_type": "code",
   "execution_count": 132,
   "metadata": {},
   "outputs": [
    {
     "name": "stdout",
     "output_type": "stream",
     "text": [
      "Test mean absolute error: 0.139\n",
      "Test median absolute_error: 0.114\n",
      "Test r2: 0.802\n"
     ]
    }
   ],
   "source": [
    "rf_test_mae = round(mean_absolute_error(y_test, rf_y_pred), 3)\n",
    "rf_test_med = round(median_absolute_error(y_test, rf_y_pred), 3)\n",
    "rf_test_r2 = round(r2_score(y_test, rf_y_pred), 3)\n",
    "print(f'Test mean absolute error: {rf_test_mae}')\n",
    "print(f'Test median absolute_error: {rf_test_med}')\n",
    "print(f'Test r2: {rf_test_r2}')\n",
    "mean_errors_list.append(rf_test_mae)\n",
    "median_errors_list.append(rf_test_med)\n",
    "r2_list.append(rf_test_r2)"
   ]
  },
  {
   "cell_type": "code",
   "execution_count": 133,
   "metadata": {},
   "outputs": [
    {
     "data": {
      "text/plain": [
       "count    340.000000\n",
       "mean       0.139039\n",
       "std        0.126950\n",
       "min        0.000602\n",
       "25%        0.051943\n",
       "50%        0.113738\n",
       "75%        0.185558\n",
       "max        1.144303\n",
       "Name: price, dtype: float64"
      ]
     },
     "execution_count": 133,
     "metadata": {},
     "output_type": "execute_result"
    }
   ],
   "source": [
    "rf_errors = abs(rf_y_pred - y_test)\n",
    "errors_summary_list.append(rf_errors.describe())\n",
    "rf_errors.describe()"
   ]
  },
  {
   "cell_type": "markdown",
   "metadata": {},
   "source": [
    "#### ANN ensemble"
   ]
  },
  {
   "cell_type": "code",
   "execution_count": 48,
   "metadata": {},
   "outputs": [
    {
     "name": "stdout",
     "output_type": "stream",
     "text": [
      "Model: \"sequential_11\"\n",
      "_________________________________________________________________\n",
      "Layer (type)                 Output Shape              Param #   \n",
      "=================================================================\n",
      "dropout_11 (Dropout)         (None, 13)                0         \n",
      "_________________________________________________________________\n",
      "dense_21 (Dense)             (None, 64)                896       \n",
      "_________________________________________________________________\n",
      "dense_22 (Dense)             (None, 1)                 65        \n",
      "=================================================================\n",
      "Total params: 961\n",
      "Trainable params: 961\n",
      "Non-trainable params: 0\n",
      "_________________________________________________________________\n"
     ]
    }
   ],
   "source": [
    "# Ensemble\n",
    "n_inputs = X_train_scaled.shape[1]\n",
    "\n",
    "ensemble_y_preds = []\n",
    "\n",
    "#best params for 13 features dataset from baseline models\n",
    "neurons = 64\n",
    "batch_size = 10\n",
    "dropout_rate = 0\n",
    "epochs = 100\n",
    "\n",
    "tf.random.set_seed(1)\n",
    "np.random.seed(1)\n",
    "rn.seed(1)\n",
    "i = 0\n",
    "while i < 10:\n",
    "    model = create_model(neurons=neurons, dropout_rate=dropout_rate)\n",
    "    history = model.fit(X_train_scaled,\n",
    "                        y_train,\n",
    "                        batch_size=batch_size,\n",
    "                        epochs=epochs, verbose=0,\n",
    "                        validation_split=0.2)\n",
    "    if max(history.history['loss']) - min(history.history['loss']) > 1:\n",
    "        y_pred = model.predict(X_test_scaled)\n",
    "        ensemble_y_preds.append(y_pred)\n",
    "        i += 1\n",
    "    else:\n",
    "        continue\n",
    "\n",
    "model.summary()"
   ]
  },
  {
   "cell_type": "code",
   "execution_count": 50,
   "metadata": {},
   "outputs": [],
   "source": [
    "ensemble_y_pred_means = np.array(ensemble_y_preds).mean(axis=0).reshape(len(ensemble_y_preds[0]))"
   ]
  },
  {
   "cell_type": "code",
   "execution_count": 134,
   "metadata": {},
   "outputs": [
    {
     "name": "stdout",
     "output_type": "stream",
     "text": [
      "Test mean absolute error: 0.135\n",
      "Test median absolute_error: 0.102\n",
      "Test r2: 0.806\n"
     ]
    }
   ],
   "source": [
    "ensemble_test_mae = round(mean_absolute_error(y_test, ensemble_y_pred_means), 3)\n",
    "ensemble_test_med = round(median_absolute_error(y_test, ensemble_y_pred_means), 3)\n",
    "ensemble_test_r2 = round(r2_score(y_test, ensemble_y_pred_means), 3)\n",
    "print(f'Test mean absolute error: {ensemble_test_mae}')\n",
    "print(f'Test median absolute_error: {ensemble_test_med}')\n",
    "print(f'Test r2: {ensemble_test_r2}')\n",
    "mean_errors_list.append(ensemble_test_mae)\n",
    "median_errors_list.append(ensemble_test_med)\n",
    "r2_list.append(ensemble_test_r2)"
   ]
  },
  {
   "cell_type": "code",
   "execution_count": 135,
   "metadata": {},
   "outputs": [
    {
     "data": {
      "text/plain": [
       "count    340.000000\n",
       "mean       0.135142\n",
       "std        0.128027\n",
       "min        0.000685\n",
       "25%        0.049574\n",
       "50%        0.101875\n",
       "75%        0.190493\n",
       "max        0.974559\n",
       "Name: price, dtype: float64"
      ]
     },
     "execution_count": 135,
     "metadata": {},
     "output_type": "execute_result"
    }
   ],
   "source": [
    "ensemble_errors = abs(ensemble_y_pred_means - y_test)\n",
    "errors_summary_list.append(ensemble_errors.describe())\n",
    "ensemble_errors.describe()"
   ]
  },
  {
   "cell_type": "markdown",
   "metadata": {},
   "source": [
    "### With visual features"
   ]
  },
  {
   "cell_type": "markdown",
   "metadata": {},
   "source": [
    "#### Get Basic CNN features"
   ]
  },
  {
   "cell_type": "code",
   "execution_count": 56,
   "metadata": {},
   "outputs": [
    {
     "data": {
      "text/html": [
       "<div>\n",
       "<style scoped>\n",
       "    .dataframe tbody tr th:only-of-type {\n",
       "        vertical-align: middle;\n",
       "    }\n",
       "\n",
       "    .dataframe tbody tr th {\n",
       "        vertical-align: top;\n",
       "    }\n",
       "\n",
       "    .dataframe thead th {\n",
       "        text-align: right;\n",
       "    }\n",
       "</style>\n",
       "<table border=\"1\" class=\"dataframe\">\n",
       "  <thead>\n",
       "    <tr style=\"text-align: right;\">\n",
       "      <th></th>\n",
       "      <th>0</th>\n",
       "      <th>1</th>\n",
       "      <th>2</th>\n",
       "      <th>3</th>\n",
       "      <th>4</th>\n",
       "      <th>5</th>\n",
       "      <th>6</th>\n",
       "      <th>7</th>\n",
       "      <th>8</th>\n",
       "      <th>9</th>\n",
       "      <th>...</th>\n",
       "      <th>54</th>\n",
       "      <th>55</th>\n",
       "      <th>56</th>\n",
       "      <th>57</th>\n",
       "      <th>58</th>\n",
       "      <th>59</th>\n",
       "      <th>60</th>\n",
       "      <th>61</th>\n",
       "      <th>62</th>\n",
       "      <th>63</th>\n",
       "    </tr>\n",
       "    <tr>\n",
       "      <th>postcode</th>\n",
       "      <th></th>\n",
       "      <th></th>\n",
       "      <th></th>\n",
       "      <th></th>\n",
       "      <th></th>\n",
       "      <th></th>\n",
       "      <th></th>\n",
       "      <th></th>\n",
       "      <th></th>\n",
       "      <th></th>\n",
       "      <th></th>\n",
       "      <th></th>\n",
       "      <th></th>\n",
       "      <th></th>\n",
       "      <th></th>\n",
       "      <th></th>\n",
       "      <th></th>\n",
       "      <th></th>\n",
       "      <th></th>\n",
       "      <th></th>\n",
       "      <th></th>\n",
       "    </tr>\n",
       "  </thead>\n",
       "  <tbody>\n",
       "    <tr>\n",
       "      <th>HP13 6HH</th>\n",
       "      <td>0.460285</td>\n",
       "      <td>0.609173</td>\n",
       "      <td>-1.033105</td>\n",
       "      <td>-1.140801</td>\n",
       "      <td>0.867461</td>\n",
       "      <td>-0.389387</td>\n",
       "      <td>-1.112721</td>\n",
       "      <td>0.519766</td>\n",
       "      <td>1.213608</td>\n",
       "      <td>-1.294701</td>\n",
       "      <td>...</td>\n",
       "      <td>-1.143036</td>\n",
       "      <td>0.281333</td>\n",
       "      <td>-0.115862</td>\n",
       "      <td>1.481613</td>\n",
       "      <td>2.317501</td>\n",
       "      <td>1.040266</td>\n",
       "      <td>1.199460</td>\n",
       "      <td>1.391251</td>\n",
       "      <td>-0.780336</td>\n",
       "      <td>-1.210949</td>\n",
       "    </tr>\n",
       "    <tr>\n",
       "      <th>HP13 6EA</th>\n",
       "      <td>0.937270</td>\n",
       "      <td>0.377074</td>\n",
       "      <td>-1.033105</td>\n",
       "      <td>-0.967907</td>\n",
       "      <td>1.365271</td>\n",
       "      <td>0.137931</td>\n",
       "      <td>-1.112721</td>\n",
       "      <td>1.068601</td>\n",
       "      <td>0.993053</td>\n",
       "      <td>-1.294701</td>\n",
       "      <td>...</td>\n",
       "      <td>-1.143036</td>\n",
       "      <td>0.092861</td>\n",
       "      <td>0.266590</td>\n",
       "      <td>1.715756</td>\n",
       "      <td>2.274577</td>\n",
       "      <td>0.796801</td>\n",
       "      <td>0.761629</td>\n",
       "      <td>0.984326</td>\n",
       "      <td>-0.934701</td>\n",
       "      <td>-1.210949</td>\n",
       "    </tr>\n",
       "    <tr>\n",
       "      <th>HP13 6XJ</th>\n",
       "      <td>0.598973</td>\n",
       "      <td>0.752545</td>\n",
       "      <td>-1.033105</td>\n",
       "      <td>-1.100252</td>\n",
       "      <td>0.938736</td>\n",
       "      <td>-0.158266</td>\n",
       "      <td>-1.112721</td>\n",
       "      <td>1.378435</td>\n",
       "      <td>0.857829</td>\n",
       "      <td>-1.294701</td>\n",
       "      <td>...</td>\n",
       "      <td>-1.143036</td>\n",
       "      <td>0.283934</td>\n",
       "      <td>0.288493</td>\n",
       "      <td>1.659969</td>\n",
       "      <td>1.771476</td>\n",
       "      <td>0.827088</td>\n",
       "      <td>1.049534</td>\n",
       "      <td>1.116665</td>\n",
       "      <td>-0.417524</td>\n",
       "      <td>-1.210949</td>\n",
       "    </tr>\n",
       "    <tr>\n",
       "      <th>HP13 6DN</th>\n",
       "      <td>-0.994475</td>\n",
       "      <td>1.282921</td>\n",
       "      <td>-1.033105</td>\n",
       "      <td>0.855755</td>\n",
       "      <td>0.505091</td>\n",
       "      <td>-0.990967</td>\n",
       "      <td>-1.112721</td>\n",
       "      <td>-0.354120</td>\n",
       "      <td>1.602455</td>\n",
       "      <td>-1.294701</td>\n",
       "      <td>...</td>\n",
       "      <td>-1.143036</td>\n",
       "      <td>-0.566145</td>\n",
       "      <td>-1.531380</td>\n",
       "      <td>2.605138</td>\n",
       "      <td>3.682518</td>\n",
       "      <td>2.122008</td>\n",
       "      <td>1.654604</td>\n",
       "      <td>2.484123</td>\n",
       "      <td>-1.635064</td>\n",
       "      <td>-1.210949</td>\n",
       "    </tr>\n",
       "    <tr>\n",
       "      <th>HP13 6DZ</th>\n",
       "      <td>-0.088234</td>\n",
       "      <td>1.141260</td>\n",
       "      <td>-1.033105</td>\n",
       "      <td>-0.121967</td>\n",
       "      <td>0.747035</td>\n",
       "      <td>-0.544591</td>\n",
       "      <td>-1.112721</td>\n",
       "      <td>0.108471</td>\n",
       "      <td>1.391343</td>\n",
       "      <td>-1.294701</td>\n",
       "      <td>...</td>\n",
       "      <td>-1.143036</td>\n",
       "      <td>-0.212643</td>\n",
       "      <td>-0.750765</td>\n",
       "      <td>1.923859</td>\n",
       "      <td>2.900778</td>\n",
       "      <td>1.546351</td>\n",
       "      <td>1.250457</td>\n",
       "      <td>1.797178</td>\n",
       "      <td>-1.165277</td>\n",
       "      <td>-1.210949</td>\n",
       "    </tr>\n",
       "  </tbody>\n",
       "</table>\n",
       "<p>5 rows × 64 columns</p>\n",
       "</div>"
      ],
      "text/plain": [
       "                0         1         2         3         4         5   \\\n",
       "postcode                                                               \n",
       "HP13 6HH  0.460285  0.609173 -1.033105 -1.140801  0.867461 -0.389387   \n",
       "HP13 6EA  0.937270  0.377074 -1.033105 -0.967907  1.365271  0.137931   \n",
       "HP13 6XJ  0.598973  0.752545 -1.033105 -1.100252  0.938736 -0.158266   \n",
       "HP13 6DN -0.994475  1.282921 -1.033105  0.855755  0.505091 -0.990967   \n",
       "HP13 6DZ -0.088234  1.141260 -1.033105 -0.121967  0.747035 -0.544591   \n",
       "\n",
       "                6         7         8         9   ...        54        55  \\\n",
       "postcode                                          ...                       \n",
       "HP13 6HH -1.112721  0.519766  1.213608 -1.294701  ... -1.143036  0.281333   \n",
       "HP13 6EA -1.112721  1.068601  0.993053 -1.294701  ... -1.143036  0.092861   \n",
       "HP13 6XJ -1.112721  1.378435  0.857829 -1.294701  ... -1.143036  0.283934   \n",
       "HP13 6DN -1.112721 -0.354120  1.602455 -1.294701  ... -1.143036 -0.566145   \n",
       "HP13 6DZ -1.112721  0.108471  1.391343 -1.294701  ... -1.143036 -0.212643   \n",
       "\n",
       "                56        57        58        59        60        61  \\\n",
       "postcode                                                               \n",
       "HP13 6HH -0.115862  1.481613  2.317501  1.040266  1.199460  1.391251   \n",
       "HP13 6EA  0.266590  1.715756  2.274577  0.796801  0.761629  0.984326   \n",
       "HP13 6XJ  0.288493  1.659969  1.771476  0.827088  1.049534  1.116665   \n",
       "HP13 6DN -1.531380  2.605138  3.682518  2.122008  1.654604  2.484123   \n",
       "HP13 6DZ -0.750765  1.923859  2.900778  1.546351  1.250457  1.797178   \n",
       "\n",
       "                62        63  \n",
       "postcode                      \n",
       "HP13 6HH -0.780336 -1.210949  \n",
       "HP13 6EA -0.934701 -1.210949  \n",
       "HP13 6XJ -0.417524 -1.210949  \n",
       "HP13 6DN -1.635064 -1.210949  \n",
       "HP13 6DZ -1.165277 -1.210949  \n",
       "\n",
       "[5 rows x 64 columns]"
      ]
     },
     "execution_count": 56,
     "metadata": {},
     "output_type": "execute_result"
    }
   ],
   "source": [
    "basic_cnn_features = pd.read_pickle('visual_features_BasicCNN.pkl')\n",
    "basic_cnn_features.head()"
   ]
  },
  {
   "cell_type": "code",
   "execution_count": 59,
   "metadata": {},
   "outputs": [],
   "source": [
    "features_matched = data.merge(basic_cnn_features,\n",
    "                               how='left',\n",
    "                               left_on='postcode',\n",
    "                               right_index=True)\n",
    "\n",
    "basic_cnn_train_features = features_matched.loc[~data.lsoa_code.isin(test_lsoas), basic_cnn_features.columns]\n",
    "basic_cnn_test_features = features_matched.loc[data.lsoa_code.isin(test_lsoas), basic_cnn_features.columns]"
   ]
  },
  {
   "cell_type": "code",
   "execution_count": 60,
   "metadata": {},
   "outputs": [],
   "source": [
    "# scale features\n",
    "scale = MinMaxScaler()\n",
    "\n",
    "basic_cnn_train_features = scale.fit_transform(basic_cnn_train_features)\n",
    "basic_cnn_test_features = scale.transform(basic_cnn_test_features)"
   ]
  },
  {
   "cell_type": "code",
   "execution_count": 61,
   "metadata": {},
   "outputs": [
    {
     "data": {
      "text/plain": [
       "((2227, 64), (340, 64))"
      ]
     },
     "execution_count": 61,
     "metadata": {},
     "output_type": "execute_result"
    }
   ],
   "source": [
    "basic_cnn_train_features.shape, basic_cnn_test_features.shape"
   ]
  },
  {
   "cell_type": "markdown",
   "metadata": {},
   "source": [
    "#### Get ResNet50 features"
   ]
  },
  {
   "cell_type": "code",
   "execution_count": 62,
   "metadata": {},
   "outputs": [
    {
     "data": {
      "text/html": [
       "<div>\n",
       "<style scoped>\n",
       "    .dataframe tbody tr th:only-of-type {\n",
       "        vertical-align: middle;\n",
       "    }\n",
       "\n",
       "    .dataframe tbody tr th {\n",
       "        vertical-align: top;\n",
       "    }\n",
       "\n",
       "    .dataframe thead th {\n",
       "        text-align: right;\n",
       "    }\n",
       "</style>\n",
       "<table border=\"1\" class=\"dataframe\">\n",
       "  <thead>\n",
       "    <tr style=\"text-align: right;\">\n",
       "      <th></th>\n",
       "      <th>0</th>\n",
       "      <th>1</th>\n",
       "      <th>2</th>\n",
       "      <th>3</th>\n",
       "      <th>4</th>\n",
       "      <th>5</th>\n",
       "      <th>6</th>\n",
       "      <th>7</th>\n",
       "      <th>8</th>\n",
       "      <th>9</th>\n",
       "      <th>...</th>\n",
       "      <th>2038</th>\n",
       "      <th>2039</th>\n",
       "      <th>2040</th>\n",
       "      <th>2041</th>\n",
       "      <th>2042</th>\n",
       "      <th>2043</th>\n",
       "      <th>2044</th>\n",
       "      <th>2045</th>\n",
       "      <th>2046</th>\n",
       "      <th>2047</th>\n",
       "    </tr>\n",
       "    <tr>\n",
       "      <th>postcode</th>\n",
       "      <th></th>\n",
       "      <th></th>\n",
       "      <th></th>\n",
       "      <th></th>\n",
       "      <th></th>\n",
       "      <th></th>\n",
       "      <th></th>\n",
       "      <th></th>\n",
       "      <th></th>\n",
       "      <th></th>\n",
       "      <th></th>\n",
       "      <th></th>\n",
       "      <th></th>\n",
       "      <th></th>\n",
       "      <th></th>\n",
       "      <th></th>\n",
       "      <th></th>\n",
       "      <th></th>\n",
       "      <th></th>\n",
       "      <th></th>\n",
       "      <th></th>\n",
       "    </tr>\n",
       "  </thead>\n",
       "  <tbody>\n",
       "    <tr>\n",
       "      <th>HP13 6HH</th>\n",
       "      <td>0.0</td>\n",
       "      <td>0.0</td>\n",
       "      <td>0.183676</td>\n",
       "      <td>0.0</td>\n",
       "      <td>0.000000</td>\n",
       "      <td>0.0</td>\n",
       "      <td>0.000000</td>\n",
       "      <td>0.0</td>\n",
       "      <td>0.00000</td>\n",
       "      <td>0.000000</td>\n",
       "      <td>...</td>\n",
       "      <td>0.0</td>\n",
       "      <td>0.0</td>\n",
       "      <td>0.0</td>\n",
       "      <td>0.0</td>\n",
       "      <td>0.0</td>\n",
       "      <td>0.0</td>\n",
       "      <td>0.0</td>\n",
       "      <td>2.741024</td>\n",
       "      <td>0.0</td>\n",
       "      <td>0.0</td>\n",
       "    </tr>\n",
       "    <tr>\n",
       "      <th>HP13 6EA</th>\n",
       "      <td>0.0</td>\n",
       "      <td>0.0</td>\n",
       "      <td>0.014008</td>\n",
       "      <td>0.0</td>\n",
       "      <td>0.066264</td>\n",
       "      <td>0.0</td>\n",
       "      <td>0.000000</td>\n",
       "      <td>0.0</td>\n",
       "      <td>0.04687</td>\n",
       "      <td>0.068429</td>\n",
       "      <td>...</td>\n",
       "      <td>0.0</td>\n",
       "      <td>0.0</td>\n",
       "      <td>0.0</td>\n",
       "      <td>0.0</td>\n",
       "      <td>0.0</td>\n",
       "      <td>0.0</td>\n",
       "      <td>0.0</td>\n",
       "      <td>2.807945</td>\n",
       "      <td>0.0</td>\n",
       "      <td>0.0</td>\n",
       "    </tr>\n",
       "    <tr>\n",
       "      <th>HP13 6XJ</th>\n",
       "      <td>0.0</td>\n",
       "      <td>0.0</td>\n",
       "      <td>0.000000</td>\n",
       "      <td>0.0</td>\n",
       "      <td>0.000000</td>\n",
       "      <td>0.0</td>\n",
       "      <td>0.000000</td>\n",
       "      <td>0.0</td>\n",
       "      <td>0.00000</td>\n",
       "      <td>0.000000</td>\n",
       "      <td>...</td>\n",
       "      <td>0.0</td>\n",
       "      <td>0.0</td>\n",
       "      <td>0.0</td>\n",
       "      <td>0.0</td>\n",
       "      <td>0.0</td>\n",
       "      <td>0.0</td>\n",
       "      <td>0.0</td>\n",
       "      <td>1.837047</td>\n",
       "      <td>0.0</td>\n",
       "      <td>0.0</td>\n",
       "    </tr>\n",
       "    <tr>\n",
       "      <th>HP13 6DN</th>\n",
       "      <td>0.0</td>\n",
       "      <td>0.0</td>\n",
       "      <td>0.535695</td>\n",
       "      <td>0.0</td>\n",
       "      <td>0.000000</td>\n",
       "      <td>0.0</td>\n",
       "      <td>0.013951</td>\n",
       "      <td>0.0</td>\n",
       "      <td>0.00000</td>\n",
       "      <td>0.000000</td>\n",
       "      <td>...</td>\n",
       "      <td>0.0</td>\n",
       "      <td>0.0</td>\n",
       "      <td>0.0</td>\n",
       "      <td>0.0</td>\n",
       "      <td>0.0</td>\n",
       "      <td>0.0</td>\n",
       "      <td>0.0</td>\n",
       "      <td>3.059574</td>\n",
       "      <td>0.0</td>\n",
       "      <td>0.0</td>\n",
       "    </tr>\n",
       "    <tr>\n",
       "      <th>HP13 6DZ</th>\n",
       "      <td>0.0</td>\n",
       "      <td>0.0</td>\n",
       "      <td>0.355928</td>\n",
       "      <td>0.0</td>\n",
       "      <td>0.000000</td>\n",
       "      <td>0.0</td>\n",
       "      <td>0.000000</td>\n",
       "      <td>0.0</td>\n",
       "      <td>0.00000</td>\n",
       "      <td>0.000000</td>\n",
       "      <td>...</td>\n",
       "      <td>0.0</td>\n",
       "      <td>0.0</td>\n",
       "      <td>0.0</td>\n",
       "      <td>0.0</td>\n",
       "      <td>0.0</td>\n",
       "      <td>0.0</td>\n",
       "      <td>0.0</td>\n",
       "      <td>3.380399</td>\n",
       "      <td>0.0</td>\n",
       "      <td>0.0</td>\n",
       "    </tr>\n",
       "  </tbody>\n",
       "</table>\n",
       "<p>5 rows × 2048 columns</p>\n",
       "</div>"
      ],
      "text/plain": [
       "          0     1         2     3         4     5         6     7        8     \\\n",
       "postcode                                                                        \n",
       "HP13 6HH   0.0   0.0  0.183676   0.0  0.000000   0.0  0.000000   0.0  0.00000   \n",
       "HP13 6EA   0.0   0.0  0.014008   0.0  0.066264   0.0  0.000000   0.0  0.04687   \n",
       "HP13 6XJ   0.0   0.0  0.000000   0.0  0.000000   0.0  0.000000   0.0  0.00000   \n",
       "HP13 6DN   0.0   0.0  0.535695   0.0  0.000000   0.0  0.013951   0.0  0.00000   \n",
       "HP13 6DZ   0.0   0.0  0.355928   0.0  0.000000   0.0  0.000000   0.0  0.00000   \n",
       "\n",
       "              9     ...  2038  2039  2040  2041  2042  2043  2044      2045  \\\n",
       "postcode            ...                                                       \n",
       "HP13 6HH  0.000000  ...   0.0   0.0   0.0   0.0   0.0   0.0   0.0  2.741024   \n",
       "HP13 6EA  0.068429  ...   0.0   0.0   0.0   0.0   0.0   0.0   0.0  2.807945   \n",
       "HP13 6XJ  0.000000  ...   0.0   0.0   0.0   0.0   0.0   0.0   0.0  1.837047   \n",
       "HP13 6DN  0.000000  ...   0.0   0.0   0.0   0.0   0.0   0.0   0.0  3.059574   \n",
       "HP13 6DZ  0.000000  ...   0.0   0.0   0.0   0.0   0.0   0.0   0.0  3.380399   \n",
       "\n",
       "          2046  2047  \n",
       "postcode              \n",
       "HP13 6HH   0.0   0.0  \n",
       "HP13 6EA   0.0   0.0  \n",
       "HP13 6XJ   0.0   0.0  \n",
       "HP13 6DN   0.0   0.0  \n",
       "HP13 6DZ   0.0   0.0  \n",
       "\n",
       "[5 rows x 2048 columns]"
      ]
     },
     "execution_count": 62,
     "metadata": {},
     "output_type": "execute_result"
    }
   ],
   "source": [
    "resnet50_features = pd.read_pickle('visual_features_ResNet50.pkl')\n",
    "resnet50_features.head()"
   ]
  },
  {
   "cell_type": "code",
   "execution_count": 63,
   "metadata": {},
   "outputs": [],
   "source": [
    "resnet50_features = resnet50_features.loc[:, ~(resnet50_features == 0).all()]"
   ]
  },
  {
   "cell_type": "code",
   "execution_count": 66,
   "metadata": {},
   "outputs": [],
   "source": [
    "features_matched = data.merge(resnet50_features,\n",
    "                               how='left',\n",
    "                               left_on='postcode',\n",
    "                               right_index=True)\n",
    "\n",
    "resnet50_train_features = features_matched.loc[~data.lsoa_code.isin(test_lsoas), resnet50_features.columns]\n",
    "resnet50_test_features = features_matched.loc[data.lsoa_code.isin(test_lsoas), resnet50_features.columns]"
   ]
  },
  {
   "cell_type": "code",
   "execution_count": 67,
   "metadata": {},
   "outputs": [],
   "source": [
    "scale = MinMaxScaler()"
   ]
  },
  {
   "cell_type": "code",
   "execution_count": 68,
   "metadata": {},
   "outputs": [],
   "source": [
    "resnet50_train_features = scale.fit_transform(resnet50_train_features)\n",
    "resnet50_test_features = scale.transform(resnet50_test_features)"
   ]
  },
  {
   "cell_type": "code",
   "execution_count": 69,
   "metadata": {},
   "outputs": [
    {
     "data": {
      "text/plain": [
       "((2227, 1390), (340, 1390))"
      ]
     },
     "execution_count": 69,
     "metadata": {},
     "output_type": "execute_result"
    }
   ],
   "source": [
    "resnet50_train_features.shape, resnet50_test_features.shape"
   ]
  },
  {
   "cell_type": "markdown",
   "metadata": {},
   "source": [
    "#### Fully connected / single input approach Architecture A"
   ]
  },
  {
   "cell_type": "markdown",
   "metadata": {},
   "source": [
    "#### Basic CNN features"
   ]
  },
  {
   "cell_type": "code",
   "execution_count": 70,
   "metadata": {},
   "outputs": [
    {
     "data": {
      "text/plain": [
       "(2227, 77)"
      ]
     },
     "execution_count": 70,
     "metadata": {},
     "output_type": "execute_result"
    }
   ],
   "source": [
    "# combine tabular and visual features into one table\n",
    "basic_cnn_A_train = np.concatenate([X_train_scaled, basic_cnn_train_features], axis=1)\n",
    "basic_cnn_A_train.shape"
   ]
  },
  {
   "cell_type": "code",
   "execution_count": 71,
   "metadata": {},
   "outputs": [
    {
     "data": {
      "text/plain": [
       "(340, 77)"
      ]
     },
     "execution_count": 71,
     "metadata": {},
     "output_type": "execute_result"
    }
   ],
   "source": [
    "basic_cnn_A_test = np.concatenate([X_test_scaled, basic_cnn_test_features], axis=1)\n",
    "basic_cnn_A_test.shape"
   ]
  },
  {
   "cell_type": "code",
   "execution_count": 72,
   "metadata": {},
   "outputs": [
    {
     "name": "stdout",
     "output_type": "stream",
     "text": [
      "Model: \"model_10\"\n",
      "_________________________________________________________________\n",
      "Layer (type)                 Output Shape              Param #   \n",
      "=================================================================\n",
      "input_10 (InputLayer)        (None, 77)                0         \n",
      "_________________________________________________________________\n",
      "dense_41 (Dense)             (None, 128)               9984      \n",
      "_________________________________________________________________\n",
      "dense_42 (Dense)             (None, 1)                 129       \n",
      "=================================================================\n",
      "Total params: 10,113\n",
      "Trainable params: 10,113\n",
      "Non-trainable params: 0\n",
      "_________________________________________________________________\n"
     ]
    }
   ],
   "source": [
    "basic_cnn_A_y_preds = []\n",
    "basic_cnn_A_histories = []\n",
    "\n",
    "batch_size = 10\n",
    "epochs = 100\n",
    "features_shape = basic_cnn_A_train.shape[1] \n",
    "\n",
    "tf.random.set_seed(1)\n",
    "i = 0\n",
    "bad = 0\n",
    "while i < 10:\n",
    "    combined_input = Input(shape=(features_shape,))\n",
    "\n",
    "    combined_model = Dense(128, activation='relu')(combined_input)\n",
    "    combined_model = Dense(1, activation='relu')(combined_model)\n",
    "\n",
    "    model = Model(inputs=combined_input, outputs=combined_model)\n",
    "    model.compile(optimizer='adam', loss='mean_absolute_error')\n",
    "\n",
    "    history = model.fit(basic_cnn_A_train,\n",
    "              y_train, epochs=epochs,\n",
    "              validation_split=0.2,\n",
    "              batch_size=batch_size,\n",
    "              verbose=0)\n",
    "    if max(history.history['loss']) - min(history.history['loss']) > 1:\n",
    "        y_pred = model.predict(basic_cnn_A_test)\n",
    "        basic_cnn_A_y_preds.append(y_pred)\n",
    "        basic_cnn_A_histories.append(history)\n",
    "        i += 1\n",
    "    else:\n",
    "        bad += 1\n",
    "        continue\n",
    "        \n",
    "model.summary()"
   ]
  },
  {
   "cell_type": "code",
   "execution_count": 73,
   "metadata": {},
   "outputs": [],
   "source": [
    "basic_cnn_A_y_pred = np.mean(np.array(basic_cnn_A_y_preds), axis=0)"
   ]
  },
  {
   "cell_type": "code",
   "execution_count": 136,
   "metadata": {},
   "outputs": [
    {
     "name": "stdout",
     "output_type": "stream",
     "text": [
      "Test mean absolute error: 0.143\n",
      "Test median absolute_error: 0.112\n",
      "Test r2: 0.795\n"
     ]
    }
   ],
   "source": [
    "basic_cnn_A_test_mae = round(mean_absolute_error(y_test, basic_cnn_A_y_pred), 3)\n",
    "basic_cnn_A_test_med = round(median_absolute_error(y_test, basic_cnn_A_y_pred), 3)\n",
    "basic_cnn_A_test_r2 = round(r2_score(y_test, basic_cnn_A_y_pred), 3)\n",
    "print(f'Test mean absolute error: {basic_cnn_A_test_mae}')\n",
    "print(f'Test median absolute_error: {basic_cnn_A_test_med}')\n",
    "print(f'Test r2: {basic_cnn_A_test_r2}')\n",
    "mean_errors_list.append(basic_cnn_A_test_mae)\n",
    "median_errors_list.append(basic_cnn_A_test_med)\n",
    "r2_list.append(basic_cnn_A_test_r2)"
   ]
  },
  {
   "cell_type": "code",
   "execution_count": 137,
   "metadata": {},
   "outputs": [
    {
     "data": {
      "text/plain": [
       "count    340.000000\n",
       "mean       0.142780\n",
       "std        0.127774\n",
       "min        0.000508\n",
       "25%        0.054153\n",
       "50%        0.112492\n",
       "75%        0.190070\n",
       "max        0.959791\n",
       "Name: price, dtype: float64"
      ]
     },
     "execution_count": 137,
     "metadata": {},
     "output_type": "execute_result"
    }
   ],
   "source": [
    "basic_cnn_A_errors = abs(basic_cnn_A_y_pred.reshape(len(y_pred)) - y_test)\n",
    "errors_summary_list.append(basic_cnn_A_errors.describe())\n",
    "basic_cnn_A_errors.describe()"
   ]
  },
  {
   "cell_type": "markdown",
   "metadata": {},
   "source": [
    "#### ResNet50 features"
   ]
  },
  {
   "cell_type": "code",
   "execution_count": 80,
   "metadata": {},
   "outputs": [
    {
     "data": {
      "text/plain": [
       "(2227, 1403)"
      ]
     },
     "execution_count": 80,
     "metadata": {},
     "output_type": "execute_result"
    }
   ],
   "source": [
    "# combine tabular and visual features into one table\n",
    "resnet50_A_train = np.concatenate([X_train_scaled, resnet50_train_features], axis=1)\n",
    "resnet50_A_train.shape"
   ]
  },
  {
   "cell_type": "code",
   "execution_count": 81,
   "metadata": {},
   "outputs": [
    {
     "data": {
      "text/plain": [
       "(340, 1403)"
      ]
     },
     "execution_count": 81,
     "metadata": {},
     "output_type": "execute_result"
    }
   ],
   "source": [
    "resnet50_A_test = np.concatenate([X_test_scaled, resnet50_test_features], axis=1)\n",
    "resnet50_A_test.shape"
   ]
  },
  {
   "cell_type": "code",
   "execution_count": 82,
   "metadata": {},
   "outputs": [
    {
     "name": "stdout",
     "output_type": "stream",
     "text": [
      "Model: \"model_20\"\n",
      "_________________________________________________________________\n",
      "Layer (type)                 Output Shape              Param #   \n",
      "=================================================================\n",
      "input_20 (InputLayer)        (None, 1403)              0         \n",
      "_________________________________________________________________\n",
      "dense_61 (Dense)             (None, 128)               179712    \n",
      "_________________________________________________________________\n",
      "dense_62 (Dense)             (None, 1)                 129       \n",
      "=================================================================\n",
      "Total params: 179,841\n",
      "Trainable params: 179,841\n",
      "Non-trainable params: 0\n",
      "_________________________________________________________________\n"
     ]
    }
   ],
   "source": [
    "resnet50_A_y_preds = []\n",
    "resnet50_A_histories = []\n",
    "\n",
    "batch_size = 10\n",
    "epochs = 100\n",
    "features_shape = resnet50_A_train.shape[1] \n",
    "\n",
    "tf.random.set_seed(1)\n",
    "np.random.seed(1)\n",
    "rn.seed(1)\n",
    "i = 0\n",
    "bad = 0\n",
    "while i < 10:\n",
    "    combined_input = Input(shape=(features_shape,))\n",
    "\n",
    "    combined_model = Dense(128, activation='relu')(combined_input)\n",
    "    combined_model = Dense(1, activation='relu')(combined_model)\n",
    "\n",
    "    model = Model(inputs=combined_input, outputs=combined_model)\n",
    "    model.compile(optimizer='adam', loss='mean_absolute_error')\n",
    "\n",
    "    history = model.fit(resnet50_A_train,\n",
    "              y_train, epochs=epochs,\n",
    "              validation_split=0.2,\n",
    "              batch_size=batch_size,\n",
    "              verbose=0)\n",
    "    if max(history.history['loss']) - min(history.history['loss']) > 1:\n",
    "        y_pred = model.predict(resnet50_A_test)\n",
    "        resnet50_A_y_preds.append(y_pred)\n",
    "        resnet50_A_histories.append(history)\n",
    "        i += 1\n",
    "    else:\n",
    "        bad += 1\n",
    "        continue\n",
    "        \n",
    "model.summary()"
   ]
  },
  {
   "cell_type": "code",
   "execution_count": 83,
   "metadata": {},
   "outputs": [],
   "source": [
    "resnet50_A_y_pred = np.mean(np.array(resnet50_A_y_preds), axis=0)"
   ]
  },
  {
   "cell_type": "code",
   "execution_count": 138,
   "metadata": {},
   "outputs": [
    {
     "name": "stdout",
     "output_type": "stream",
     "text": [
      "Test mean absolute error: 1.133\n",
      "Test median absolute_error: 0.511\n",
      "Test r2: -35.557\n"
     ]
    }
   ],
   "source": [
    "resnet50_A_test_mae = round(mean_absolute_error(y_test, resnet50_A_y_pred), 3)\n",
    "resnet50_A_test_med = round(median_absolute_error(y_test, resnet50_A_y_pred), 3)\n",
    "resnet50_A_test_r2 = round(r2_score(y_test, resnet50_A_y_pred), 3)\n",
    "print(f'Test mean absolute error: {resnet50_A_test_mae}')\n",
    "print(f'Test median absolute_error: {resnet50_A_test_med}')\n",
    "print(f'Test r2: {resnet50_A_test_r2}')\n",
    "mean_errors_list.append(resnet50_A_test_mae)\n",
    "median_errors_list.append(resnet50_A_test_med)\n",
    "r2_list.append(resnet50_A_test_r2)"
   ]
  },
  {
   "cell_type": "code",
   "execution_count": 139,
   "metadata": {},
   "outputs": [
    {
     "data": {
      "text/plain": [
       "count    340.000000\n",
       "mean       1.132860\n",
       "std        2.292752\n",
       "min        0.002747\n",
       "25%        0.249402\n",
       "50%        0.510786\n",
       "75%        0.951395\n",
       "max       12.899220\n",
       "Name: price, dtype: float64"
      ]
     },
     "execution_count": 139,
     "metadata": {},
     "output_type": "execute_result"
    }
   ],
   "source": [
    "resnet50_A_errors = abs(resnet50_A_y_pred.reshape(len(y_pred)) - y_test)\n",
    "errors_summary_list.append(resnet50_A_errors.describe())\n",
    "resnet50_A_errors.describe()"
   ]
  },
  {
   "cell_type": "markdown",
   "metadata": {},
   "source": [
    "### Architecture B - no hidden layer for features"
   ]
  },
  {
   "cell_type": "markdown",
   "metadata": {},
   "source": [
    "#### Basic CNN features"
   ]
  },
  {
   "cell_type": "code",
   "execution_count": 96,
   "metadata": {},
   "outputs": [
    {
     "name": "stdout",
     "output_type": "stream",
     "text": [
      "Model: \"model_53\"\n",
      "__________________________________________________________________________________________________\n",
      "Layer (type)                    Output Shape         Param #     Connected to                     \n",
      "==================================================================================================\n",
      "input_41 (InputLayer)           (None, 13)           0                                            \n",
      "__________________________________________________________________________________________________\n",
      "input_42 (InputLayer)           (None, 64)           0                                            \n",
      "__________________________________________________________________________________________________\n",
      "dense_83 (Dense)                (None, 128)          1792        input_41[0][0]                   \n",
      "__________________________________________________________________________________________________\n",
      "dropout_22 (Dropout)            (None, 64)           0           input_42[0][0]                   \n",
      "__________________________________________________________________________________________________\n",
      "concatenate_11 (Concatenate)    (None, 192)          0           dense_83[0][0]                   \n",
      "                                                                 dropout_22[0][0]                 \n",
      "__________________________________________________________________________________________________\n",
      "dense_84 (Dense)                (None, 1)            193         concatenate_11[0][0]             \n",
      "==================================================================================================\n",
      "Total params: 1,985\n",
      "Trainable params: 1,985\n",
      "Non-trainable params: 0\n",
      "__________________________________________________________________________________________________\n"
     ]
    }
   ],
   "source": [
    "batch_size = 10\n",
    "epochs = 100\n",
    "features_shape = basic_cnn_features.shape[1] \n",
    "\n",
    "basic_cnn_B_y_preds = []\n",
    "basic_cnn_B_histories = []\n",
    "\n",
    "tf.random.set_seed(1)\n",
    "np.random.seed(1)\n",
    "rn.seed(1)\n",
    "i=0\n",
    "while i < 10:\n",
    "    tabular_input = Input(shape=(X_train_scaled.shape[1],))\n",
    "    feature_vector_input = Input(shape=(features_shape,))\n",
    "\n",
    "    tabular_model = Dense(128, activation='relu')(tabular_input)\n",
    "    tabular_model = Model(inputs=tabular_input, outputs=tabular_model)\n",
    "\n",
    "    feature_vector_model = Dropout(0.25)(feature_vector_input)\n",
    "    feature_vector_model = Model(inputs=feature_vector_input, outputs=feature_vector_model)\n",
    "\n",
    "    combined_outputs = concatenate([tabular_model.output, feature_vector_model.output])\n",
    "\n",
    "    combined_model = Dense(1, activation='relu')(combined_outputs)\n",
    "    #combined_model = Dense(1, activation='relu')(combined_model)\n",
    "\n",
    "    model = Model(inputs=[tabular_model.input, feature_vector_model.input], outputs=combined_model)\n",
    "    model.compile(optimizer='adam', loss='mean_absolute_error')\n",
    "    history = model.fit([X_train_scaled, basic_cnn_train_features],\n",
    "          y_train,\n",
    "          epochs=epochs,\n",
    "          validation_split=0.2,\n",
    "          batch_size=batch_size,\n",
    "          verbose=0)\n",
    "    if max(history.history['loss']) - min(history.history['loss']) > 1:\n",
    "        y_pred = model.predict([X_test_scaled, basic_cnn_test_features])\n",
    "        basic_cnn_B_y_preds.append(y_pred)\n",
    "        basic_cnn_B_histories.append(history)\n",
    "        i += 1\n",
    "    else:\n",
    "        continue\n",
    "\n",
    "model.summary()"
   ]
  },
  {
   "cell_type": "code",
   "execution_count": 97,
   "metadata": {},
   "outputs": [],
   "source": [
    "basic_cnn_B_y_pred = np.mean(np.array(basic_cnn_B_y_preds), axis=0)"
   ]
  },
  {
   "cell_type": "code",
   "execution_count": 140,
   "metadata": {},
   "outputs": [
    {
     "name": "stdout",
     "output_type": "stream",
     "text": [
      "Test mean absolute error: 0.127\n",
      "Test median absolute_error: 0.101\n",
      "Test r2: 0.824\n"
     ]
    }
   ],
   "source": [
    "basic_cnn_B_test_mae = round(mean_absolute_error(y_test, basic_cnn_B_y_pred), 3)\n",
    "basic_cnn_B_test_med = round(median_absolute_error(y_test, basic_cnn_B_y_pred), 3)\n",
    "basic_cnn_B_test_r2 = round(r2_score(y_test, basic_cnn_B_y_pred), 3)\n",
    "print(f'Test mean absolute error: {basic_cnn_B_test_mae}')\n",
    "print(f'Test median absolute_error: {basic_cnn_B_test_med}')\n",
    "print(f'Test r2: {basic_cnn_B_test_r2}')\n",
    "mean_errors_list.append(basic_cnn_B_test_mae)\n",
    "median_errors_list.append(basic_cnn_B_test_med)\n",
    "r2_list.append(basic_cnn_B_test_r2)"
   ]
  },
  {
   "cell_type": "code",
   "execution_count": 141,
   "metadata": {},
   "outputs": [
    {
     "data": {
      "text/plain": [
       "count    340.000000\n",
       "mean       0.126914\n",
       "std        0.123973\n",
       "min        0.000477\n",
       "25%        0.047119\n",
       "50%        0.101437\n",
       "75%        0.169638\n",
       "max        1.011093\n",
       "Name: price, dtype: float64"
      ]
     },
     "execution_count": 141,
     "metadata": {},
     "output_type": "execute_result"
    }
   ],
   "source": [
    "basic_cnn_B_errors = abs(basic_cnn_B_y_pred.reshape(len(y_pred)) - y_test)\n",
    "errors_summary_list.append(basic_cnn_B_errors.describe())\n",
    "basic_cnn_B_errors.describe()"
   ]
  },
  {
   "cell_type": "markdown",
   "metadata": {},
   "source": [
    "#### ResNet50 features"
   ]
  },
  {
   "cell_type": "code",
   "execution_count": 104,
   "metadata": {},
   "outputs": [
    {
     "name": "stdout",
     "output_type": "stream",
     "text": [
      "Model: \"model_83\"\n",
      "__________________________________________________________________________________________________\n",
      "Layer (type)                    Output Shape         Param #     Connected to                     \n",
      "==================================================================================================\n",
      "input_61 (InputLayer)           (None, 13)           0                                            \n",
      "__________________________________________________________________________________________________\n",
      "input_62 (InputLayer)           (None, 1390)         0                                            \n",
      "__________________________________________________________________________________________________\n",
      "dense_103 (Dense)               (None, 128)          1792        input_61[0][0]                   \n",
      "__________________________________________________________________________________________________\n",
      "dropout_32 (Dropout)            (None, 1390)         0           input_62[0][0]                   \n",
      "__________________________________________________________________________________________________\n",
      "concatenate_21 (Concatenate)    (None, 1518)         0           dense_103[0][0]                  \n",
      "                                                                 dropout_32[0][0]                 \n",
      "__________________________________________________________________________________________________\n",
      "dense_104 (Dense)               (None, 1)            1519        concatenate_21[0][0]             \n",
      "==================================================================================================\n",
      "Total params: 3,311\n",
      "Trainable params: 3,311\n",
      "Non-trainable params: 0\n",
      "__________________________________________________________________________________________________\n"
     ]
    }
   ],
   "source": [
    "resnet50_B_y_preds = []\n",
    "resnet50_B_histories = []\n",
    "\n",
    "batch_size = 10\n",
    "epochs = 100\n",
    "features_shape = resnet50_features.shape[1] \n",
    "\n",
    "tf.random.set_seed(1)\n",
    "np.random.seed(1)\n",
    "rn.seed(1)\n",
    "i = 0\n",
    "while i < 10:\n",
    "    tabular_input = Input(shape=(X_train_scaled.shape[1],))\n",
    "    feature_vector_input = Input(shape=(features_shape,))\n",
    "\n",
    "    tabular_model = Dense(128, activation='relu')(tabular_input)\n",
    "    tabular_model = Model(inputs=tabular_input, outputs=tabular_model)\n",
    "\n",
    "    feature_vector_model = Dropout(0.25)(feature_vector_input)\n",
    "    feature_vector_model = Model(inputs=feature_vector_input, outputs=feature_vector_model)\n",
    "\n",
    "    combined_outputs = concatenate([tabular_model.output, feature_vector_model.output])\n",
    "\n",
    "    combined_model = Dense(1, activation='relu')(combined_outputs)\n",
    "    #combined_model = Dense(1, activation='relu')(combined_model)\n",
    "\n",
    "    model = Model(inputs=[tabular_model.input, feature_vector_model.input], outputs=combined_model)\n",
    "    model.compile(optimizer='adam', loss='mean_absolute_error')\n",
    "\n",
    "    history = model.fit([X_train_scaled, resnet50_train_features],\n",
    "              y_train, epochs=epochs,\n",
    "              validation_split=0.2,\n",
    "              batch_size=batch_size,\n",
    "              verbose = 0)\n",
    "    if max(history.history['loss']) - min(history.history['loss']) > 1:\n",
    "        y_pred = model.predict([X_test_scaled, resnet50_test_features])\n",
    "        resnet50_B_y_preds.append(y_pred)\n",
    "        resnet50_B_histories.append(history)\n",
    "        i += 1\n",
    "    else:\n",
    "        continue\n",
    "        \n",
    "model.summary()"
   ]
  },
  {
   "cell_type": "code",
   "execution_count": 105,
   "metadata": {},
   "outputs": [],
   "source": [
    "resnet50_B_y_pred = np.mean(np.array(resnet50_B_y_preds), axis=0)"
   ]
  },
  {
   "cell_type": "code",
   "execution_count": 142,
   "metadata": {},
   "outputs": [
    {
     "name": "stdout",
     "output_type": "stream",
     "text": [
      "Test MAE: 0.46449784247617976\n",
      "Test MAE: 0.11713173455690118\n",
      "Test r2: -69.97521047002296\n"
     ]
    }
   ],
   "source": [
    "resnet50_B_test_mae = mean_absolute_error(y_test, resnet50_B_y_pred)\n",
    "resnet50_B_test_med = median_absolute_error(y_test, resnet50_B_y_pred)\n",
    "resnet50_B_test_r2 = r2_score(y_test, resnet50_B_y_pred)\n",
    "print(f'Test MAE: {resnet50_B_test_mae}')\n",
    "print(f'Test MAE: {resnet50_B_test_med}')\n",
    "print(f'Test r2: {resnet50_B_test_r2}')\n",
    "mean_errors_list.append(resnet50_B_test_mae)\n",
    "median_errors_list.append(resnet50_B_test_med)\n",
    "r2_list.append(resnet50_B_test_r2)"
   ]
  },
  {
   "cell_type": "code",
   "execution_count": 143,
   "metadata": {},
   "outputs": [
    {
     "data": {
      "text/plain": [
       "count    340.000000\n",
       "mean       0.464498\n",
       "std        3.533917\n",
       "min        0.000625\n",
       "25%        0.057447\n",
       "50%        0.117132\n",
       "75%        0.211960\n",
       "max       46.332668\n",
       "Name: price, dtype: float64"
      ]
     },
     "execution_count": 143,
     "metadata": {},
     "output_type": "execute_result"
    }
   ],
   "source": [
    "resnet50_B_errors = abs(resnet50_B_y_pred.reshape(len(resnet50_B_y_pred)) - y_test)\n",
    "errors_summary_list.append(resnet50_B_errors.describe())\n",
    "resnet50_B_errors.describe()"
   ]
  },
  {
   "cell_type": "markdown",
   "metadata": {},
   "source": [
    "#### Architecture C - independent hidden layers"
   ]
  },
  {
   "cell_type": "markdown",
   "metadata": {},
   "source": [
    "#### Basic CNN"
   ]
  },
  {
   "cell_type": "code",
   "execution_count": 111,
   "metadata": {},
   "outputs": [
    {
     "name": "stdout",
     "output_type": "stream",
     "text": [
      "Model: \"model_116\"\n",
      "__________________________________________________________________________________________________\n",
      "Layer (type)                    Output Shape         Param #     Connected to                     \n",
      "==================================================================================================\n",
      "input_84 (InputLayer)           (None, 64)           0                                            \n",
      "__________________________________________________________________________________________________\n",
      "input_83 (InputLayer)           (None, 13)           0                                            \n",
      "__________________________________________________________________________________________________\n",
      "dropout_43 (Dropout)            (None, 64)           0           input_84[0][0]                   \n",
      "__________________________________________________________________________________________________\n",
      "dense_135 (Dense)               (None, 128)          1792        input_83[0][0]                   \n",
      "__________________________________________________________________________________________________\n",
      "dense_136 (Dense)               (None, 8)            520         dropout_43[0][0]                 \n",
      "__________________________________________________________________________________________________\n",
      "concatenate_32 (Concatenate)    (None, 136)          0           dense_135[0][0]                  \n",
      "                                                                 dense_136[0][0]                  \n",
      "__________________________________________________________________________________________________\n",
      "dense_137 (Dense)               (None, 1)            137         concatenate_32[0][0]             \n",
      "==================================================================================================\n",
      "Total params: 2,449\n",
      "Trainable params: 2,449\n",
      "Non-trainable params: 0\n",
      "__________________________________________________________________________________________________\n"
     ]
    }
   ],
   "source": [
    "batch_size = 10\n",
    "epochs = 100\n",
    "features_shape = basic_cnn_features.shape[1] \n",
    "\n",
    "basic_cnn_C_y_preds = []\n",
    "basic_cnn_C_histories = []\n",
    "\n",
    "tf.random.set_seed(1)\n",
    "np.random.seed(1)\n",
    "rn.seed(1)\n",
    "i=0\n",
    "while i < 10:\n",
    "    tabular_input = Input(shape=(X_train_scaled.shape[1],))\n",
    "    feature_vector_input = Input(shape=(features_shape,))\n",
    "\n",
    "    tabular_model = Dense(128, activation='relu')(tabular_input)\n",
    "    tabular_model = Model(inputs=tabular_input, outputs=tabular_model)\n",
    "\n",
    "    feature_vector_model = Dropout(0.25)(feature_vector_input)\n",
    "    feature_vector_model = Dense(8, activation='relu')(feature_vector_model)\n",
    "    feature_vector_model = Model(inputs=feature_vector_input, outputs=feature_vector_model)\n",
    "\n",
    "    combined_outputs = concatenate([tabular_model.output, feature_vector_model.output])\n",
    "\n",
    "    combined_model = Dense(1, activation='relu')(combined_outputs)\n",
    "    #combined_model = Dense(1, activation='relu')(combined_model)\n",
    "\n",
    "    model = Model(inputs=[tabular_model.input, feature_vector_model.input], outputs=combined_model)\n",
    "    model.compile(optimizer='adam', loss='mean_absolute_error')\n",
    "    history = model.fit([X_train_scaled, basic_cnn_train_features],\n",
    "          y_train,\n",
    "          epochs=epochs,\n",
    "          validation_split=0.2,\n",
    "          batch_size=batch_size,\n",
    "          verbose=0)\n",
    "    if max(history.history['loss']) - min(history.history['loss']) > 1:\n",
    "        y_pred = model.predict([X_test_scaled, basic_cnn_test_features])\n",
    "        basic_cnn_C_y_preds.append(y_pred)\n",
    "        basic_cnn_C_histories.append(history)\n",
    "        i += 1\n",
    "    else:\n",
    "        continue\n",
    "\n",
    "model.summary()"
   ]
  },
  {
   "cell_type": "code",
   "execution_count": 112,
   "metadata": {},
   "outputs": [],
   "source": [
    "basic_cnn_C_y_pred = np.mean(np.array(basic_cnn_C_y_preds), axis=0)"
   ]
  },
  {
   "cell_type": "code",
   "execution_count": 144,
   "metadata": {},
   "outputs": [
    {
     "name": "stdout",
     "output_type": "stream",
     "text": [
      "Test mean absolute error: 0.139\n",
      "Test median absolute_error: 0.111\n",
      "Test r2: 0.806\n"
     ]
    }
   ],
   "source": [
    "basic_cnn_C_test_mae = round(mean_absolute_error(y_test, basic_cnn_C_y_pred), 3)\n",
    "basic_cnn_C_test_med = round(median_absolute_error(y_test, basic_cnn_C_y_pred), 3)\n",
    "basic_cnn_C_test_r2 = round(r2_score(y_test, basic_cnn_C_y_pred), 3)\n",
    "print(f'Test mean absolute error: {basic_cnn_C_test_mae}')\n",
    "print(f'Test median absolute_error: {basic_cnn_C_test_med}')\n",
    "print(f'Test r2: {basic_cnn_C_test_r2}')\n",
    "mean_errors_list.append(basic_cnn_C_test_mae)\n",
    "median_errors_list.append(basic_cnn_C_test_med)\n",
    "r2_list.append(basic_cnn_C_test_r2)"
   ]
  },
  {
   "cell_type": "code",
   "execution_count": 145,
   "metadata": {},
   "outputs": [
    {
     "data": {
      "text/plain": [
       "count    340.000000\n",
       "mean       0.138720\n",
       "std        0.124359\n",
       "min        0.000538\n",
       "25%        0.051661\n",
       "50%        0.110985\n",
       "75%        0.189347\n",
       "max        0.996742\n",
       "Name: price, dtype: float64"
      ]
     },
     "execution_count": 145,
     "metadata": {},
     "output_type": "execute_result"
    }
   ],
   "source": [
    "basic_cnn_C_errors = abs(basic_cnn_C_y_pred.reshape(len(y_pred)) - y_test)\n",
    "errors_summary_list.append(basic_cnn_C_errors.describe())\n",
    "basic_cnn_C_errors.describe()"
   ]
  },
  {
   "cell_type": "markdown",
   "metadata": {},
   "source": [
    "#### ResNet50 features"
   ]
  },
  {
   "cell_type": "code",
   "execution_count": 118,
   "metadata": {},
   "outputs": [
    {
     "name": "stdout",
     "output_type": "stream",
     "text": [
      "Model: \"model_146\"\n",
      "__________________________________________________________________________________________________\n",
      "Layer (type)                    Output Shape         Param #     Connected to                     \n",
      "==================================================================================================\n",
      "input_104 (InputLayer)          (None, 1390)         0                                            \n",
      "__________________________________________________________________________________________________\n",
      "input_103 (InputLayer)          (None, 13)           0                                            \n",
      "__________________________________________________________________________________________________\n",
      "dropout_53 (Dropout)            (None, 1390)         0           input_104[0][0]                  \n",
      "__________________________________________________________________________________________________\n",
      "dense_165 (Dense)               (None, 128)          1792        input_103[0][0]                  \n",
      "__________________________________________________________________________________________________\n",
      "dense_166 (Dense)               (None, 128)          178048      dropout_53[0][0]                 \n",
      "__________________________________________________________________________________________________\n",
      "concatenate_42 (Concatenate)    (None, 256)          0           dense_165[0][0]                  \n",
      "                                                                 dense_166[0][0]                  \n",
      "__________________________________________________________________________________________________\n",
      "dense_167 (Dense)               (None, 1)            257         concatenate_42[0][0]             \n",
      "==================================================================================================\n",
      "Total params: 180,097\n",
      "Trainable params: 180,097\n",
      "Non-trainable params: 0\n",
      "__________________________________________________________________________________________________\n"
     ]
    }
   ],
   "source": [
    "resnet50_C_y_preds = []\n",
    "resnet50_C_histories = []\n",
    "\n",
    "batch_size = 10\n",
    "epochs = 100\n",
    "features_shape = resnet50_features.shape[1] \n",
    "\n",
    "i = 0\n",
    "while i < 10:\n",
    "    tabular_input = Input(shape=(X_train_scaled.shape[1],))\n",
    "    feature_vector_input = Input(shape=(features_shape,))\n",
    "\n",
    "    tabular_model = Dense(128, activation='relu')(tabular_input)\n",
    "    tabular_model = Model(inputs=tabular_input, outputs=tabular_model)\n",
    "\n",
    "    feature_vector_model = Dropout(0.25)(feature_vector_input)\n",
    "    feature_vector_model = Dense(128, activation='relu')(feature_vector_model)\n",
    "    feature_vector_model = Model(inputs=feature_vector_input, outputs=feature_vector_model)\n",
    "\n",
    "    combined_outputs = concatenate([tabular_model.output, feature_vector_model.output])\n",
    "\n",
    "    combined_model = Dense(1, activation='relu')(combined_outputs)\n",
    "    #combined_model = Dense(1, activation='relu')(combined_model)\n",
    "\n",
    "    model = Model(inputs=[tabular_model.input, feature_vector_model.input], outputs=combined_model)\n",
    "    model.compile(optimizer='adam', loss='mean_absolute_error')\n",
    "\n",
    "    history = model.fit([X_train_scaled, resnet50_train_features],\n",
    "              y_train, epochs=epochs,\n",
    "              validation_split=0.2,\n",
    "              batch_size=batch_size,\n",
    "              verbose=0)\n",
    "    if max(history.history['loss']) - min(history.history['loss']) > 1:\n",
    "        y_pred = model.predict([X_test_scaled, resnet50_test_features])\n",
    "        resnet50_C_y_preds.append(y_pred)\n",
    "        resnet50_C_histories.append(history)\n",
    "        i += 1\n",
    "    else:\n",
    "        continue\n",
    "        \n",
    "model.summary()"
   ]
  },
  {
   "cell_type": "code",
   "execution_count": 119,
   "metadata": {},
   "outputs": [],
   "source": [
    "resnet50_C_y_pred = np.mean(np.array(resnet50_C_y_preds), axis=0)"
   ]
  },
  {
   "cell_type": "code",
   "execution_count": 146,
   "metadata": {},
   "outputs": [
    {
     "name": "stdout",
     "output_type": "stream",
     "text": [
      "Test mean absolute error: 0.342\n",
      "Test median absolute_error: 0.118\n",
      "Test r2: -5.604\n"
     ]
    }
   ],
   "source": [
    "resnet50_C_test_mae = round(mean_absolute_error(y_test, resnet50_C_y_pred), 3)\n",
    "resnet50_C_test_med = round(median_absolute_error(y_test, resnet50_C_y_pred), 3)\n",
    "resnet50_C_test_r2 = round(r2_score(y_test, resnet50_C_y_pred), 3)\n",
    "print(f'Test mean absolute error: {resnet50_C_test_mae}')\n",
    "print(f'Test median absolute_error: {resnet50_C_test_med}')\n",
    "print(f'Test r2: {resnet50_C_test_r2}')\n",
    "mean_errors_list.append(resnet50_C_test_mae)\n",
    "median_errors_list.append(resnet50_C_test_med)\n",
    "r2_list.append(resnet50_C_test_r2)"
   ]
  },
  {
   "cell_type": "code",
   "execution_count": 147,
   "metadata": {},
   "outputs": [
    {
     "data": {
      "text/plain": [
       "count    340.000000\n",
       "mean       0.341915\n",
       "std        1.031961\n",
       "min        0.000156\n",
       "25%        0.058620\n",
       "50%        0.117921\n",
       "75%        0.214818\n",
       "max        9.520474\n",
       "Name: price, dtype: float64"
      ]
     },
     "execution_count": 147,
     "metadata": {},
     "output_type": "execute_result"
    }
   ],
   "source": [
    "resnet50_C_errors = abs(resnet50_C_y_pred.reshape(len(resnet50_C_y_pred)) - y_test)\n",
    "errors_summary_list.append(resnet50_C_errors.describe())\n",
    "resnet50_C_errors.describe()"
   ]
  },
  {
   "cell_type": "code",
   "execution_count": 177,
   "metadata": {},
   "outputs": [
    {
     "data": {
      "image/png": "[encoded data removed]",
      "text/plain": [
       "<Figure size 720x432 with 1 Axes>"
      ]
     },
     "metadata": {
      "needs_background": "light"
     },
     "output_type": "display_data"
    }
   ],
   "source": [
    "plt.figure(figsize=(10,6))\n",
    "plt.plot(np.mean(np.array([x.history['val_loss'] for x in basic_cnn_A_histories]), axis=0))\n",
    "plt.plot(np.mean(np.array([x.history['val_loss'] for x in resnet50_A_histories]), axis=0))\n",
    "plt.plot(np.mean(np.array([x.history['val_loss'] for x in basic_cnn_B_histories]), axis=0))\n",
    "plt.plot(np.mean(np.array([x.history['val_loss'] for x in resnet50_B_histories]), axis=0))\n",
    "plt.plot(np.mean(np.array([x.history['val_loss'] for x in basic_cnn_C_histories]), axis=0))\n",
    "plt.plot(np.mean(np.array([x.history['val_loss'] for x in resnet50_C_histories]), axis=0))\n",
    "plt.ylim(0.09,0.4)\n",
    "plt.xlabel('epoch')\n",
    "plt.ylabel('validation mean absolute error')\n",
    "plt.title('MAE on validation set during training')\n",
    "plt.legend(['Basic CNN - A', 'ResNet50 - A', 'Basic CNN - B', 'ResNet50 - B', 'Basic CNN - C', 'ResNet50 - C'])\n",
    "plt.show()"
   ]
  },
  {
   "cell_type": "code",
   "execution_count": 178,
   "metadata": {},
   "outputs": [
    {
     "data": {
      "text/html": [
       "<div>\n",
       "<style scoped>\n",
       "    .dataframe tbody tr th:only-of-type {\n",
       "        vertical-align: middle;\n",
       "    }\n",
       "\n",
       "    .dataframe tbody tr th {\n",
       "        vertical-align: top;\n",
       "    }\n",
       "\n",
       "    .dataframe thead th {\n",
       "        text-align: right;\n",
       "    }\n",
       "</style>\n",
       "<table border=\"1\" class=\"dataframe\">\n",
       "  <thead>\n",
       "    <tr style=\"text-align: right;\">\n",
       "      <th></th>\n",
       "      <th>visual features set</th>\n",
       "      <th>architecture</th>\n",
       "      <th>mean absolute error</th>\n",
       "      <th>median absolute error</th>\n",
       "      <th>R-squared</th>\n",
       "    </tr>\n",
       "    <tr>\n",
       "      <th>model</th>\n",
       "      <th></th>\n",
       "      <th></th>\n",
       "      <th></th>\n",
       "      <th></th>\n",
       "      <th></th>\n",
       "    </tr>\n",
       "  </thead>\n",
       "  <tbody>\n",
       "    <tr>\n",
       "      <th>Linear regression</th>\n",
       "      <td>-</td>\n",
       "      <td>Baseline</td>\n",
       "      <td>0.138</td>\n",
       "      <td>0.105</td>\n",
       "      <td>0.804</td>\n",
       "    </tr>\n",
       "    <tr>\n",
       "      <th>Random Forest</th>\n",
       "      <td>-</td>\n",
       "      <td>Baseline</td>\n",
       "      <td>0.139</td>\n",
       "      <td>0.114</td>\n",
       "      <td>0.802</td>\n",
       "    </tr>\n",
       "    <tr>\n",
       "      <th>ANN Ensemble</th>\n",
       "      <td>-</td>\n",
       "      <td>Baseline</td>\n",
       "      <td>0.135</td>\n",
       "      <td>0.102</td>\n",
       "      <td>0.806</td>\n",
       "    </tr>\n",
       "    <tr>\n",
       "      <th>ANN Ensemble</th>\n",
       "      <td>Basic CNN</td>\n",
       "      <td>A</td>\n",
       "      <td>0.143</td>\n",
       "      <td>0.112</td>\n",
       "      <td>0.795</td>\n",
       "    </tr>\n",
       "    <tr>\n",
       "      <th>ANN Ensemble</th>\n",
       "      <td>ResNet50</td>\n",
       "      <td>A</td>\n",
       "      <td>1.133</td>\n",
       "      <td>0.511</td>\n",
       "      <td>-35.557</td>\n",
       "    </tr>\n",
       "    <tr>\n",
       "      <th>ANN Ensemble</th>\n",
       "      <td>Basic CNN</td>\n",
       "      <td>B</td>\n",
       "      <td>0.127</td>\n",
       "      <td>0.101</td>\n",
       "      <td>0.824</td>\n",
       "    </tr>\n",
       "    <tr>\n",
       "      <th>ANN Ensemble</th>\n",
       "      <td>ResNet50</td>\n",
       "      <td>B</td>\n",
       "      <td>0.464</td>\n",
       "      <td>0.117</td>\n",
       "      <td>-69.975</td>\n",
       "    </tr>\n",
       "    <tr>\n",
       "      <th>ANN Ensemble</th>\n",
       "      <td>Basic CNN</td>\n",
       "      <td>C</td>\n",
       "      <td>0.139</td>\n",
       "      <td>0.111</td>\n",
       "      <td>0.806</td>\n",
       "    </tr>\n",
       "    <tr>\n",
       "      <th>ANN Ensemble</th>\n",
       "      <td>ResNet50</td>\n",
       "      <td>C</td>\n",
       "      <td>0.342</td>\n",
       "      <td>0.118</td>\n",
       "      <td>-5.604</td>\n",
       "    </tr>\n",
       "  </tbody>\n",
       "</table>\n",
       "</div>"
      ],
      "text/plain": [
       "                  visual features set architecture  mean absolute error  \\\n",
       "model                                                                     \n",
       "Linear regression                   -     Baseline                0.138   \n",
       "Random Forest                       -     Baseline                0.139   \n",
       "ANN Ensemble                        -     Baseline                0.135   \n",
       "ANN Ensemble                Basic CNN            A                0.143   \n",
       "ANN Ensemble                 ResNet50            A                1.133   \n",
       "ANN Ensemble                Basic CNN            B                0.127   \n",
       "ANN Ensemble                 ResNet50            B                0.464   \n",
       "ANN Ensemble                Basic CNN            C                0.139   \n",
       "ANN Ensemble                 ResNet50            C                0.342   \n",
       "\n",
       "                   median absolute error  R-squared  \n",
       "model                                                \n",
       "Linear regression                  0.105      0.804  \n",
       "Random Forest                      0.114      0.802  \n",
       "ANN Ensemble                       0.102      0.806  \n",
       "ANN Ensemble                       0.112      0.795  \n",
       "ANN Ensemble                       0.511    -35.557  \n",
       "ANN Ensemble                       0.101      0.824  \n",
       "ANN Ensemble                       0.117    -69.975  \n",
       "ANN Ensemble                       0.111      0.806  \n",
       "ANN Ensemble                       0.118     -5.604  "
      ]
     },
     "execution_count": 178,
     "metadata": {},
     "output_type": "execute_result"
    }
   ],
   "source": [
    "model_list = ['Linear regression', 'Random Forest'] + ['ANN Ensemble'] * 7\n",
    "features_list = (['-'] * 3) + (['Basic CNN', 'ResNet50'] * 3)\n",
    "architecture_list = ['Baseline'] * 3 + list('AABBCC')\n",
    "test_scores = pd.DataFrame(\n",
    "    {'visual features set': features_list,\n",
    "     'architecture': architecture_list,\n",
    "     'mean absolute error': mean_errors_list,\n",
    "     'median absolute error': median_errors_list,\n",
    "     'R-squared': r2_list},\n",
    "     index=model_list\n",
    ")\n",
    "test_scores.index.rename('model', inplace=True)\n",
    "test_scores.round(3).to_csv('final results.csv')\n",
    "test_scores.round(3)"
   ]
  },
  {
   "cell_type": "code",
   "execution_count": 180,
   "metadata": {},
   "outputs": [
    {
     "data": {
      "text/html": [
       "<div>\n",
       "<style scoped>\n",
       "    .dataframe tbody tr th:only-of-type {\n",
       "        vertical-align: middle;\n",
       "    }\n",
       "\n",
       "    .dataframe tbody tr th {\n",
       "        vertical-align: top;\n",
       "    }\n",
       "\n",
       "    .dataframe thead th {\n",
       "        text-align: right;\n",
       "    }\n",
       "</style>\n",
       "<table border=\"1\" class=\"dataframe\">\n",
       "  <thead>\n",
       "    <tr style=\"text-align: right;\">\n",
       "      <th></th>\n",
       "      <th>Linear regression</th>\n",
       "      <th>Random Forest</th>\n",
       "      <th>ANN Ensemble</th>\n",
       "      <th>ANN Ensemble</th>\n",
       "      <th>ANN Ensemble</th>\n",
       "      <th>ANN Ensemble</th>\n",
       "      <th>ANN Ensemble</th>\n",
       "      <th>ANN Ensemble</th>\n",
       "      <th>ANN Ensemble</th>\n",
       "    </tr>\n",
       "  </thead>\n",
       "  <tbody>\n",
       "    <tr>\n",
       "      <th>count</th>\n",
       "      <td>340.000</td>\n",
       "      <td>340.000</td>\n",
       "      <td>340.000</td>\n",
       "      <td>340.000</td>\n",
       "      <td>340.000</td>\n",
       "      <td>340.000</td>\n",
       "      <td>340.000</td>\n",
       "      <td>340.000</td>\n",
       "      <td>340.000</td>\n",
       "    </tr>\n",
       "    <tr>\n",
       "      <th>mean</th>\n",
       "      <td>0.138</td>\n",
       "      <td>0.139</td>\n",
       "      <td>0.135</td>\n",
       "      <td>0.143</td>\n",
       "      <td>1.133</td>\n",
       "      <td>0.127</td>\n",
       "      <td>0.464</td>\n",
       "      <td>0.139</td>\n",
       "      <td>0.342</td>\n",
       "    </tr>\n",
       "    <tr>\n",
       "      <th>std</th>\n",
       "      <td>0.126</td>\n",
       "      <td>0.127</td>\n",
       "      <td>0.128</td>\n",
       "      <td>0.128</td>\n",
       "      <td>2.293</td>\n",
       "      <td>0.124</td>\n",
       "      <td>3.534</td>\n",
       "      <td>0.124</td>\n",
       "      <td>1.032</td>\n",
       "    </tr>\n",
       "    <tr>\n",
       "      <th>min</th>\n",
       "      <td>0.000</td>\n",
       "      <td>0.001</td>\n",
       "      <td>0.001</td>\n",
       "      <td>0.001</td>\n",
       "      <td>0.003</td>\n",
       "      <td>0.000</td>\n",
       "      <td>0.001</td>\n",
       "      <td>0.001</td>\n",
       "      <td>0.000</td>\n",
       "    </tr>\n",
       "    <tr>\n",
       "      <th>25%</th>\n",
       "      <td>0.050</td>\n",
       "      <td>0.052</td>\n",
       "      <td>0.050</td>\n",
       "      <td>0.054</td>\n",
       "      <td>0.249</td>\n",
       "      <td>0.047</td>\n",
       "      <td>0.057</td>\n",
       "      <td>0.052</td>\n",
       "      <td>0.059</td>\n",
       "    </tr>\n",
       "    <tr>\n",
       "      <th>50%</th>\n",
       "      <td>0.105</td>\n",
       "      <td>0.114</td>\n",
       "      <td>0.102</td>\n",
       "      <td>0.112</td>\n",
       "      <td>0.511</td>\n",
       "      <td>0.101</td>\n",
       "      <td>0.117</td>\n",
       "      <td>0.111</td>\n",
       "      <td>0.118</td>\n",
       "    </tr>\n",
       "    <tr>\n",
       "      <th>75%</th>\n",
       "      <td>0.204</td>\n",
       "      <td>0.186</td>\n",
       "      <td>0.190</td>\n",
       "      <td>0.190</td>\n",
       "      <td>0.951</td>\n",
       "      <td>0.170</td>\n",
       "      <td>0.212</td>\n",
       "      <td>0.189</td>\n",
       "      <td>0.215</td>\n",
       "    </tr>\n",
       "    <tr>\n",
       "      <th>max</th>\n",
       "      <td>0.940</td>\n",
       "      <td>1.144</td>\n",
       "      <td>0.975</td>\n",
       "      <td>0.960</td>\n",
       "      <td>12.899</td>\n",
       "      <td>1.011</td>\n",
       "      <td>46.333</td>\n",
       "      <td>0.997</td>\n",
       "      <td>9.520</td>\n",
       "    </tr>\n",
       "  </tbody>\n",
       "</table>\n",
       "</div>"
      ],
      "text/plain": [
       "       Linear regression  Random Forest  ANN Ensemble  ANN Ensemble  \\\n",
       "count            340.000        340.000       340.000       340.000   \n",
       "mean               0.138          0.139         0.135         0.143   \n",
       "std                0.126          0.127         0.128         0.128   \n",
       "min                0.000          0.001         0.001         0.001   \n",
       "25%                0.050          0.052         0.050         0.054   \n",
       "50%                0.105          0.114         0.102         0.112   \n",
       "75%                0.204          0.186         0.190         0.190   \n",
       "max                0.940          1.144         0.975         0.960   \n",
       "\n",
       "       ANN Ensemble  ANN Ensemble  ANN Ensemble  ANN Ensemble  ANN Ensemble  \n",
       "count       340.000       340.000       340.000       340.000       340.000  \n",
       "mean          1.133         0.127         0.464         0.139         0.342  \n",
       "std           2.293         0.124         3.534         0.124         1.032  \n",
       "min           0.003         0.000         0.001         0.001         0.000  \n",
       "25%           0.249         0.047         0.057         0.052         0.059  \n",
       "50%           0.511         0.101         0.117         0.111         0.118  \n",
       "75%           0.951         0.170         0.212         0.189         0.215  \n",
       "max          12.899         1.011        46.333         0.997         9.520  "
      ]
     },
     "execution_count": 180,
     "metadata": {},
     "output_type": "execute_result"
    }
   ],
   "source": [
    "errors_summary = pd.concat(errors_summary_list, axis=1).round(3)\n",
    "errors_summary.columns = model_list\n",
    "errors_summary.to_csv('errors summary.csv')\n",
    "errors_summary"
   ]
  },
  {
   "cell_type": "code",
   "execution_count": 183,
   "metadata": {},
   "outputs": [
    {
     "data": {
      "text/html": [
       "<div>\n",
       "<style scoped>\n",
       "    .dataframe tbody tr th:only-of-type {\n",
       "        vertical-align: middle;\n",
       "    }\n",
       "\n",
       "    .dataframe tbody tr th {\n",
       "        vertical-align: top;\n",
       "    }\n",
       "\n",
       "    .dataframe thead th {\n",
       "        text-align: right;\n",
       "    }\n",
       "</style>\n",
       "<table border=\"1\" class=\"dataframe\">\n",
       "  <thead>\n",
       "    <tr style=\"text-align: right;\">\n",
       "      <th></th>\n",
       "      <th>transaction_date</th>\n",
       "      <th>postcode</th>\n",
       "      <th>ptype</th>\n",
       "      <th>new_build</th>\n",
       "      <th>energy_consumption_current</th>\n",
       "      <th>energy_consumption_potential</th>\n",
       "      <th>total_floor_area</th>\n",
       "      <th>mains_gas_flag</th>\n",
       "      <th>glazed_type</th>\n",
       "      <th>extension_count</th>\n",
       "      <th>...</th>\n",
       "      <th>mainheatc_energy_eff</th>\n",
       "      <th>construction_age_band</th>\n",
       "      <th>lsoa_code</th>\n",
       "      <th>barriers_score</th>\n",
       "      <th>cyp_score</th>\n",
       "      <th>indoors_score</th>\n",
       "      <th>pop_16_59</th>\n",
       "      <th>older_pop_60</th>\n",
       "      <th>price</th>\n",
       "      <th>bungalow_flag</th>\n",
       "    </tr>\n",
       "  </thead>\n",
       "  <tbody>\n",
       "    <tr>\n",
       "      <th>0</th>\n",
       "      <td>2018-08-21</td>\n",
       "      <td>HP13 6HH</td>\n",
       "      <td>F</td>\n",
       "      <td>N</td>\n",
       "      <td>377</td>\n",
       "      <td>269</td>\n",
       "      <td>64.96</td>\n",
       "      <td>N</td>\n",
       "      <td>double glazing installed before 2002</td>\n",
       "      <td>0.0</td>\n",
       "      <td>...</td>\n",
       "      <td>1</td>\n",
       "      <td>England and Wales: 1967-1975</td>\n",
       "      <td>E01017919</td>\n",
       "      <td>21.025</td>\n",
       "      <td>0.314</td>\n",
       "      <td>0.448</td>\n",
       "      <td>894</td>\n",
       "      <td>250</td>\n",
       "      <td>232000</td>\n",
       "      <td>0</td>\n",
       "    </tr>\n",
       "    <tr>\n",
       "      <th>1</th>\n",
       "      <td>2018-12-14</td>\n",
       "      <td>HP12 4AL</td>\n",
       "      <td>S</td>\n",
       "      <td>N</td>\n",
       "      <td>275</td>\n",
       "      <td>68</td>\n",
       "      <td>86.00</td>\n",
       "      <td>Y</td>\n",
       "      <td>double glazing installed before 2002</td>\n",
       "      <td>1.0</td>\n",
       "      <td>...</td>\n",
       "      <td>2</td>\n",
       "      <td>England and Wales: before 1900</td>\n",
       "      <td>E01017853</td>\n",
       "      <td>23.975</td>\n",
       "      <td>-0.325</td>\n",
       "      <td>0.694</td>\n",
       "      <td>835</td>\n",
       "      <td>261</td>\n",
       "      <td>450000</td>\n",
       "      <td>0</td>\n",
       "    </tr>\n",
       "    <tr>\n",
       "      <th>2</th>\n",
       "      <td>2018-12-19</td>\n",
       "      <td>HP13 5RH</td>\n",
       "      <td>T</td>\n",
       "      <td>N</td>\n",
       "      <td>175</td>\n",
       "      <td>165</td>\n",
       "      <td>84.48</td>\n",
       "      <td>Y</td>\n",
       "      <td>double glazing unknown install date</td>\n",
       "      <td>0.0</td>\n",
       "      <td>...</td>\n",
       "      <td>3</td>\n",
       "      <td>England and Wales: 1967-1975</td>\n",
       "      <td>E01017860</td>\n",
       "      <td>16.241</td>\n",
       "      <td>0.718</td>\n",
       "      <td>-1.119</td>\n",
       "      <td>869</td>\n",
       "      <td>259</td>\n",
       "      <td>318000</td>\n",
       "      <td>0</td>\n",
       "    </tr>\n",
       "    <tr>\n",
       "      <th>3</th>\n",
       "      <td>2018-11-28</td>\n",
       "      <td>HP13 6EA</td>\n",
       "      <td>S</td>\n",
       "      <td>N</td>\n",
       "      <td>327</td>\n",
       "      <td>194</td>\n",
       "      <td>106.00</td>\n",
       "      <td>Y</td>\n",
       "      <td>double glazing unknown install date</td>\n",
       "      <td>2.0</td>\n",
       "      <td>...</td>\n",
       "      <td>3</td>\n",
       "      <td>England and Wales: 1930-1949</td>\n",
       "      <td>E01017919</td>\n",
       "      <td>21.025</td>\n",
       "      <td>0.314</td>\n",
       "      <td>0.448</td>\n",
       "      <td>894</td>\n",
       "      <td>250</td>\n",
       "      <td>420000</td>\n",
       "      <td>0</td>\n",
       "    </tr>\n",
       "    <tr>\n",
       "      <th>4</th>\n",
       "      <td>2019-09-26</td>\n",
       "      <td>HP10 8BN</td>\n",
       "      <td>S</td>\n",
       "      <td>N</td>\n",
       "      <td>154</td>\n",
       "      <td>69</td>\n",
       "      <td>130.00</td>\n",
       "      <td>Y</td>\n",
       "      <td>double glazing installed before 2002</td>\n",
       "      <td>2.0</td>\n",
       "      <td>...</td>\n",
       "      <td>3</td>\n",
       "      <td>England and Wales: 1950-1966</td>\n",
       "      <td>E01017942</td>\n",
       "      <td>8.620</td>\n",
       "      <td>-1.121</td>\n",
       "      <td>-1.210</td>\n",
       "      <td>730</td>\n",
       "      <td>459</td>\n",
       "      <td>680000</td>\n",
       "      <td>0</td>\n",
       "    </tr>\n",
       "    <tr>\n",
       "      <th>...</th>\n",
       "      <td>...</td>\n",
       "      <td>...</td>\n",
       "      <td>...</td>\n",
       "      <td>...</td>\n",
       "      <td>...</td>\n",
       "      <td>...</td>\n",
       "      <td>...</td>\n",
       "      <td>...</td>\n",
       "      <td>...</td>\n",
       "      <td>...</td>\n",
       "      <td>...</td>\n",
       "      <td>...</td>\n",
       "      <td>...</td>\n",
       "      <td>...</td>\n",
       "      <td>...</td>\n",
       "      <td>...</td>\n",
       "      <td>...</td>\n",
       "      <td>...</td>\n",
       "      <td>...</td>\n",
       "      <td>...</td>\n",
       "      <td>...</td>\n",
       "    </tr>\n",
       "    <tr>\n",
       "      <th>2562</th>\n",
       "      <td>2018-09-13</td>\n",
       "      <td>HP12 3UX</td>\n",
       "      <td>S</td>\n",
       "      <td>N</td>\n",
       "      <td>198</td>\n",
       "      <td>78</td>\n",
       "      <td>84.00</td>\n",
       "      <td>Y</td>\n",
       "      <td>double glazing installed before 2002</td>\n",
       "      <td>0.0</td>\n",
       "      <td>...</td>\n",
       "      <td>3</td>\n",
       "      <td>England and Wales: 1950-1966</td>\n",
       "      <td>E01017903</td>\n",
       "      <td>28.638</td>\n",
       "      <td>0.279</td>\n",
       "      <td>0.085</td>\n",
       "      <td>1081</td>\n",
       "      <td>184</td>\n",
       "      <td>285000</td>\n",
       "      <td>0</td>\n",
       "    </tr>\n",
       "    <tr>\n",
       "      <th>2563</th>\n",
       "      <td>2018-06-29</td>\n",
       "      <td>HP13 5GJ</td>\n",
       "      <td>F</td>\n",
       "      <td>Y</td>\n",
       "      <td>89</td>\n",
       "      <td>89</td>\n",
       "      <td>68.00</td>\n",
       "      <td>Y</td>\n",
       "      <td>double glazing unknown install date</td>\n",
       "      <td>0.0</td>\n",
       "      <td>...</td>\n",
       "      <td>2</td>\n",
       "      <td>England and Wales: 1950-1966</td>\n",
       "      <td>E01017860</td>\n",
       "      <td>16.241</td>\n",
       "      <td>0.718</td>\n",
       "      <td>-1.119</td>\n",
       "      <td>869</td>\n",
       "      <td>259</td>\n",
       "      <td>310950</td>\n",
       "      <td>0</td>\n",
       "    </tr>\n",
       "    <tr>\n",
       "      <th>2564</th>\n",
       "      <td>2019-06-18</td>\n",
       "      <td>HP10 9FT</td>\n",
       "      <td>F</td>\n",
       "      <td>N</td>\n",
       "      <td>286</td>\n",
       "      <td>255</td>\n",
       "      <td>48.00</td>\n",
       "      <td>N</td>\n",
       "      <td>double glazing installed during or after 2002</td>\n",
       "      <td>0.0</td>\n",
       "      <td>...</td>\n",
       "      <td>1</td>\n",
       "      <td>England and Wales: 2003-2006</td>\n",
       "      <td>E01017939</td>\n",
       "      <td>17.138</td>\n",
       "      <td>-0.041</td>\n",
       "      <td>-0.700</td>\n",
       "      <td>807</td>\n",
       "      <td>293</td>\n",
       "      <td>210000</td>\n",
       "      <td>0</td>\n",
       "    </tr>\n",
       "    <tr>\n",
       "      <th>2565</th>\n",
       "      <td>2019-04-08</td>\n",
       "      <td>HP13 6GH</td>\n",
       "      <td>T</td>\n",
       "      <td>N</td>\n",
       "      <td>153</td>\n",
       "      <td>136</td>\n",
       "      <td>84.58</td>\n",
       "      <td>Y</td>\n",
       "      <td>double glazing installed before 2002</td>\n",
       "      <td>0.0</td>\n",
       "      <td>...</td>\n",
       "      <td>3</td>\n",
       "      <td>England and Wales: 1996-2002</td>\n",
       "      <td>E01017851</td>\n",
       "      <td>22.409</td>\n",
       "      <td>0.368</td>\n",
       "      <td>-0.488</td>\n",
       "      <td>1147</td>\n",
       "      <td>237</td>\n",
       "      <td>293000</td>\n",
       "      <td>0</td>\n",
       "    </tr>\n",
       "    <tr>\n",
       "      <th>2566</th>\n",
       "      <td>2018-09-07</td>\n",
       "      <td>HP12 4QP</td>\n",
       "      <td>S</td>\n",
       "      <td>N</td>\n",
       "      <td>253</td>\n",
       "      <td>91</td>\n",
       "      <td>90.00</td>\n",
       "      <td>Y</td>\n",
       "      <td>double glazing unknown install date</td>\n",
       "      <td>0.0</td>\n",
       "      <td>...</td>\n",
       "      <td>2</td>\n",
       "      <td>England and Wales: 1950-1966</td>\n",
       "      <td>E01017843</td>\n",
       "      <td>22.550</td>\n",
       "      <td>-0.545</td>\n",
       "      <td>-1.436</td>\n",
       "      <td>747</td>\n",
       "      <td>531</td>\n",
       "      <td>383000</td>\n",
       "      <td>0</td>\n",
       "    </tr>\n",
       "  </tbody>\n",
       "</table>\n",
       "<p>2567 rows × 22 columns</p>\n",
       "</div>"
      ],
      "text/plain": [
       "     transaction_date  postcode ptype new_build  energy_consumption_current  \\\n",
       "0          2018-08-21  HP13 6HH     F         N                         377   \n",
       "1          2018-12-14  HP12 4AL     S         N                         275   \n",
       "2          2018-12-19  HP13 5RH     T         N                         175   \n",
       "3          2018-11-28  HP13 6EA     S         N                         327   \n",
       "4          2019-09-26  HP10 8BN     S         N                         154   \n",
       "...               ...       ...   ...       ...                         ...   \n",
       "2562       2018-09-13  HP12 3UX     S         N                         198   \n",
       "2563       2018-06-29  HP13 5GJ     F         Y                          89   \n",
       "2564       2019-06-18  HP10 9FT     F         N                         286   \n",
       "2565       2019-04-08  HP13 6GH     T         N                         153   \n",
       "2566       2018-09-07  HP12 4QP     S         N                         253   \n",
       "\n",
       "      energy_consumption_potential  total_floor_area mains_gas_flag  \\\n",
       "0                              269             64.96              N   \n",
       "1                               68             86.00              Y   \n",
       "2                              165             84.48              Y   \n",
       "3                              194            106.00              Y   \n",
       "4                               69            130.00              Y   \n",
       "...                            ...               ...            ...   \n",
       "2562                            78             84.00              Y   \n",
       "2563                            89             68.00              Y   \n",
       "2564                           255             48.00              N   \n",
       "2565                           136             84.58              Y   \n",
       "2566                            91             90.00              Y   \n",
       "\n",
       "                                        glazed_type  extension_count  ...  \\\n",
       "0              double glazing installed before 2002              0.0  ...   \n",
       "1              double glazing installed before 2002              1.0  ...   \n",
       "2               double glazing unknown install date              0.0  ...   \n",
       "3               double glazing unknown install date              2.0  ...   \n",
       "4              double glazing installed before 2002              2.0  ...   \n",
       "...                                             ...              ...  ...   \n",
       "2562           double glazing installed before 2002              0.0  ...   \n",
       "2563            double glazing unknown install date              0.0  ...   \n",
       "2564  double glazing installed during or after 2002              0.0  ...   \n",
       "2565           double glazing installed before 2002              0.0  ...   \n",
       "2566            double glazing unknown install date              0.0  ...   \n",
       "\n",
       "      mainheatc_energy_eff           construction_age_band  lsoa_code  \\\n",
       "0                        1    England and Wales: 1967-1975  E01017919   \n",
       "1                        2  England and Wales: before 1900  E01017853   \n",
       "2                        3    England and Wales: 1967-1975  E01017860   \n",
       "3                        3    England and Wales: 1930-1949  E01017919   \n",
       "4                        3    England and Wales: 1950-1966  E01017942   \n",
       "...                    ...                             ...        ...   \n",
       "2562                     3    England and Wales: 1950-1966  E01017903   \n",
       "2563                     2    England and Wales: 1950-1966  E01017860   \n",
       "2564                     1    England and Wales: 2003-2006  E01017939   \n",
       "2565                     3    England and Wales: 1996-2002  E01017851   \n",
       "2566                     2    England and Wales: 1950-1966  E01017843   \n",
       "\n",
       "     barriers_score cyp_score  indoors_score  pop_16_59  older_pop_60   price  \\\n",
       "0            21.025     0.314          0.448        894           250  232000   \n",
       "1            23.975    -0.325          0.694        835           261  450000   \n",
       "2            16.241     0.718         -1.119        869           259  318000   \n",
       "3            21.025     0.314          0.448        894           250  420000   \n",
       "4             8.620    -1.121         -1.210        730           459  680000   \n",
       "...             ...       ...            ...        ...           ...     ...   \n",
       "2562         28.638     0.279          0.085       1081           184  285000   \n",
       "2563         16.241     0.718         -1.119        869           259  310950   \n",
       "2564         17.138    -0.041         -0.700        807           293  210000   \n",
       "2565         22.409     0.368         -0.488       1147           237  293000   \n",
       "2566         22.550    -0.545         -1.436        747           531  383000   \n",
       "\n",
       "      bungalow_flag  \n",
       "0                 0  \n",
       "1                 0  \n",
       "2                 0  \n",
       "3                 0  \n",
       "4                 0  \n",
       "...             ...  \n",
       "2562              0  \n",
       "2563              0  \n",
       "2564              0  \n",
       "2565              0  \n",
       "2566              0  \n",
       "\n",
       "[2567 rows x 22 columns]"
      ]
     },
     "execution_count": 183,
     "metadata": {},
     "output_type": "execute_result"
    }
   ],
   "source": [
    "data"
   ]
  },
  {
   "cell_type": "code",
   "execution_count": null,
   "metadata": {},
   "outputs": [],
   "source": []
  }
 ],
 "metadata": {
  "kernelspec": {
   "display_name": "Python 3",
   "language": "python",
   "name": "python3"
  },
  "language_info": {
   "codemirror_mode": {
    "name": "ipython",
    "version": 3
   },
   "file_extension": ".py",
   "mimetype": "text/x-python",
   "name": "python",
   "nbconvert_exporter": "python",
   "pygments_lexer": "ipython3",
   "version": "3.7.3"
  }
 },
 "nbformat": 4,
 "nbformat_minor": 4
}
